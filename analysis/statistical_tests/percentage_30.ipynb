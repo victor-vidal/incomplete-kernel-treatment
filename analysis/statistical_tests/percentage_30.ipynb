{
 "cells": [
  {
   "cell_type": "code",
   "execution_count": 1,
   "metadata": {},
   "outputs": [],
   "source": [
    "import numpy as np\n",
    "import pandas as pd\n",
    "import matplotlib.pyplot as plt\n",
    "from autorank import autorank, plot_stats, create_report, latex_table"
   ]
  },
  {
   "cell_type": "code",
   "execution_count": 3,
   "metadata": {},
   "outputs": [],
   "source": [
    "techniques = ['isvd', 'knn', 'mean', 'median', 'zero']\n",
    "result_path = '../../imputed_kernels_results'\n",
    "\n",
    "\n",
    "def get_dataframe(metric: str, percentage: str):\n",
    "        cols = []\n",
    "        for technique in techniques:\n",
    "                cols.append(f'{technique}-{percentage}')\n",
    "\n",
    "\n",
    "        result = pd.DataFrame(columns=cols)\n",
    "\n",
    "\n",
    "        for fold in range(10):\n",
    "                new_row = []\n",
    "                \n",
    "                for technique in techniques:\n",
    "                        f1_score = np.loadtxt(f'{result_path}/{technique}/{percentage}/{metric}.txt')\n",
    "                        new_row.append(f1_score[fold])\n",
    "                \n",
    "                result.loc[fold] = new_row\n",
    "    \n",
    "        return result"
   ]
  },
  {
   "cell_type": "markdown",
   "metadata": {},
   "source": [
    "<h1>Metric: F1_score, Percentage: 30</h1>"
   ]
  },
  {
   "cell_type": "code",
   "execution_count": 4,
   "metadata": {},
   "outputs": [
    {
     "data": {
      "text/html": [
       "<div>\n",
       "<style scoped>\n",
       "    .dataframe tbody tr th:only-of-type {\n",
       "        vertical-align: middle;\n",
       "    }\n",
       "\n",
       "    .dataframe tbody tr th {\n",
       "        vertical-align: top;\n",
       "    }\n",
       "\n",
       "    .dataframe thead th {\n",
       "        text-align: right;\n",
       "    }\n",
       "</style>\n",
       "<table border=\"1\" class=\"dataframe\">\n",
       "  <thead>\n",
       "    <tr style=\"text-align: right;\">\n",
       "      <th></th>\n",
       "      <th>isvd-30</th>\n",
       "      <th>knn-30</th>\n",
       "      <th>mean-30</th>\n",
       "      <th>median-30</th>\n",
       "      <th>zero-30</th>\n",
       "    </tr>\n",
       "  </thead>\n",
       "  <tbody>\n",
       "    <tr>\n",
       "      <th>0</th>\n",
       "      <td>0.618938</td>\n",
       "      <td>0.588523</td>\n",
       "      <td>0.594533</td>\n",
       "      <td>0.612903</td>\n",
       "      <td>0.537683</td>\n",
       "    </tr>\n",
       "    <tr>\n",
       "      <th>1</th>\n",
       "      <td>0.637615</td>\n",
       "      <td>0.637002</td>\n",
       "      <td>0.589659</td>\n",
       "      <td>0.608696</td>\n",
       "      <td>0.509249</td>\n",
       "    </tr>\n",
       "    <tr>\n",
       "      <th>2</th>\n",
       "      <td>0.624113</td>\n",
       "      <td>0.613174</td>\n",
       "      <td>0.611174</td>\n",
       "      <td>0.610792</td>\n",
       "      <td>0.555191</td>\n",
       "    </tr>\n",
       "    <tr>\n",
       "      <th>3</th>\n",
       "      <td>0.585067</td>\n",
       "      <td>0.623223</td>\n",
       "      <td>0.594787</td>\n",
       "      <td>0.607477</td>\n",
       "      <td>0.530837</td>\n",
       "    </tr>\n",
       "    <tr>\n",
       "      <th>4</th>\n",
       "      <td>0.624703</td>\n",
       "      <td>0.597307</td>\n",
       "      <td>0.585928</td>\n",
       "      <td>0.574739</td>\n",
       "      <td>0.554622</td>\n",
       "    </tr>\n",
       "    <tr>\n",
       "      <th>5</th>\n",
       "      <td>0.569712</td>\n",
       "      <td>0.570060</td>\n",
       "      <td>0.591324</td>\n",
       "      <td>0.582192</td>\n",
       "      <td>0.491767</td>\n",
       "    </tr>\n",
       "    <tr>\n",
       "      <th>6</th>\n",
       "      <td>0.618483</td>\n",
       "      <td>0.621524</td>\n",
       "      <td>0.588796</td>\n",
       "      <td>0.591885</td>\n",
       "      <td>0.519651</td>\n",
       "    </tr>\n",
       "    <tr>\n",
       "      <th>7</th>\n",
       "      <td>0.654628</td>\n",
       "      <td>0.626866</td>\n",
       "      <td>0.629139</td>\n",
       "      <td>0.621381</td>\n",
       "      <td>0.575600</td>\n",
       "    </tr>\n",
       "    <tr>\n",
       "      <th>8</th>\n",
       "      <td>0.636248</td>\n",
       "      <td>0.593711</td>\n",
       "      <td>0.585909</td>\n",
       "      <td>0.584352</td>\n",
       "      <td>0.548837</td>\n",
       "    </tr>\n",
       "    <tr>\n",
       "      <th>9</th>\n",
       "      <td>0.569325</td>\n",
       "      <td>0.612786</td>\n",
       "      <td>0.591017</td>\n",
       "      <td>0.590588</td>\n",
       "      <td>0.510638</td>\n",
       "    </tr>\n",
       "  </tbody>\n",
       "</table>\n",
       "</div>"
      ],
      "text/plain": [
       "    isvd-30    knn-30   mean-30  median-30   zero-30\n",
       "0  0.618938  0.588523  0.594533   0.612903  0.537683\n",
       "1  0.637615  0.637002  0.589659   0.608696  0.509249\n",
       "2  0.624113  0.613174  0.611174   0.610792  0.555191\n",
       "3  0.585067  0.623223  0.594787   0.607477  0.530837\n",
       "4  0.624703  0.597307  0.585928   0.574739  0.554622\n",
       "5  0.569712  0.570060  0.591324   0.582192  0.491767\n",
       "6  0.618483  0.621524  0.588796   0.591885  0.519651\n",
       "7  0.654628  0.626866  0.629139   0.621381  0.575600\n",
       "8  0.636248  0.593711  0.585909   0.584352  0.548837\n",
       "9  0.569325  0.612786  0.591017   0.590588  0.510638"
      ]
     },
     "execution_count": 4,
     "metadata": {},
     "output_type": "execute_result"
    }
   ],
   "source": [
    "data = get_dataframe('F1_score', '30')\n",
    "data"
   ]
  },
  {
   "cell_type": "code",
   "execution_count": 5,
   "metadata": {},
   "outputs": [
    {
     "name": "stdout",
     "output_type": "stream",
     "text": [
      "RankResult(rankdf=\n",
      "           meanrank    median       mad  ci_lower  ci_upper effect_size  \\\n",
      "zero-30         5.0  0.534260  0.020647  0.491767    0.5756         0.0   \n",
      "median-30       3.1  0.599681  0.012167  0.574739  0.621381   -2.603965   \n",
      "mean-30         2.8  0.591170   0.00349  0.585909  0.629139   -2.592494   \n",
      "knn-30          2.1  0.612980  0.014779   0.57006  0.637002   -2.957297   \n",
      "isvd-30         2.0  0.621526  0.015406  0.569325  0.654628   -3.231259   \n",
      "\n",
      "            magnitude  \n",
      "zero-30    negligible  \n",
      "median-30       large  \n",
      "mean-30         large  \n",
      "knn-30          large  \n",
      "isvd-30         large  \n",
      "pvalue=0.00010340839164362108\n",
      "cd=1.9288111473713958\n",
      "omnibus=friedman\n",
      "posthoc=nemenyi\n",
      "all_normal=False\n",
      "pvals_shapiro=[0.9431097507476807, 0.49283257126808167, 0.002156177768483758, 0.7713354229927063, 0.18130408227443695]\n",
      "homoscedastic=True\n",
      "pval_homogeneity=0.16967226683530245\n",
      "homogeneity_test=levene\n",
      "alpha=0.05\n",
      "alpha_normality=0.01\n",
      "num_samples=10\n",
      "posterior_matrix=\n",
      "None\n",
      "decision_matrix=\n",
      "None\n",
      "rope=None\n",
      "rope_mode=None\n",
      "effect_size=akinshin_gamma)\n"
     ]
    }
   ],
   "source": [
    "result = autorank(data, alpha=0.05, verbose=False)\n",
    "print(result)"
   ]
  },
  {
   "cell_type": "code",
   "execution_count": 6,
   "metadata": {},
   "outputs": [
    {
     "name": "stdout",
     "output_type": "stream",
     "text": [
      "The statistical analysis was conducted for 5 populations with 10 paired samples.\n",
      "The family-wise significance level of the tests is alpha=0.050.\n",
      "We rejected the null hypothesis that the population is normal for the population mean-30 (p=0.002). Therefore, we assume that not all populations are normal.\n",
      "Because we have more than two populations and the populations and one of them is not normal, we use the non-parametric Friedman test as omnibus test to determine if there are any significant differences between the median values of the populations. We use the post-hoc Nemenyi test to infer which differences are significant. We report the median (MD), the median absolute deviation (MAD) and the mean rank (MR) among all populations over the samples. Differences between populations are significant, if the difference of the mean rank is greater than the critical distance CD=1.929 of the Nemenyi test.\n",
      "We reject the null hypothesis (p=0.000) of the Friedman test that there is no difference in the central tendency of the populations zero-30 (MD=0.534+-0.042, MAD=0.021, MR=5.000), median-30 (MD=0.600+-0.023, MAD=0.012, MR=3.100), mean-30 (MD=0.591+-0.022, MAD=0.003, MR=2.800), knn-30 (MD=0.613+-0.033, MAD=0.015, MR=2.100), and isvd-30 (MD=0.622+-0.043, MAD=0.015, MR=2.000). Therefore, we assume that there is a statistically significant difference between the median values of the populations.\n",
      "Based on the post-hoc Nemenyi test, we assume that there are no significant differences within the following groups: zero-30 and median-30; median-30, mean-30, knn-30, and isvd-30. All other differences are significant.\n"
     ]
    }
   ],
   "source": [
    "create_report(result)"
   ]
  },
  {
   "cell_type": "code",
   "execution_count": 7,
   "metadata": {},
   "outputs": [
    {
     "data": {
      "image/png": "[encoded data removed]",
      "text/plain": [
       "<Figure size 600x175 with 1 Axes>"
      ]
     },
     "metadata": {},
     "output_type": "display_data"
    }
   ],
   "source": [
    "plot_stats(result)\n",
    "plt.show()"
   ]
  },
  {
   "cell_type": "code",
   "execution_count": 8,
   "metadata": {},
   "outputs": [
    {
     "name": "stdout",
     "output_type": "stream",
     "text": [
      "\\begin{table}[h]\n",
      "\\centering\n",
      "\\begin{tabular}{lrrllll}\n",
      "\\toprule\n",
      "{} &    MR &   MED &   MAD &              CI & $\\gamma$ &   Magnitude \\\\\n",
      "\\midrule\n",
      "zero-30   & 5.000 & 0.534 & 0.021 &  [0.492, 0.576] &     0.000 &  negligible \\\\\n",
      "median-30 & 3.100 & 0.600 & 0.012 &  [0.575, 0.621] &    -2.604 &       large \\\\\n",
      "mean-30   & 2.800 & 0.591 & 0.003 &  [0.586, 0.629] &    -2.592 &       large \\\\\n",
      "knn-30    & 2.100 & 0.613 & 0.015 &  [0.570, 0.637] &    -2.957 &       large \\\\\n",
      "isvd-30   & 2.000 & 0.622 & 0.015 &  [0.569, 0.655] &    -3.231 &       large \\\\\n",
      "\\bottomrule\n",
      "\\end{tabular}\n",
      "\\caption{Summary of populations}\n",
      "\\label{tbl:stat_results}\n",
      "\\end{table}\n"
     ]
    },
    {
     "name": "stderr",
     "output_type": "stream",
     "text": [
      "/home/victor/.local/lib/python3.9/site-packages/autorank/autorank.py:697: FutureWarning: In future versions `DataFrame.to_latex` is expected to utilise the base implementation of `Styler.to_latex` for formatting and rendering. The arguments signature may therefore change. It is recommended instead to use `DataFrame.style.to_latex` which also contains additional functionality.\n",
      "  table_string = table_df.to_latex(float_format=float_format, na_rep='-').strip()\n"
     ]
    }
   ],
   "source": [
    "latex_table(result)"
   ]
  },
  {
   "cell_type": "markdown",
   "metadata": {},
   "source": [
    "<h1>Metric: Pearson correlation, Percentage: 30</h1>"
   ]
  },
  {
   "cell_type": "code",
   "execution_count": 9,
   "metadata": {},
   "outputs": [
    {
     "data": {
      "text/html": [
       "<div>\n",
       "<style scoped>\n",
       "    .dataframe tbody tr th:only-of-type {\n",
       "        vertical-align: middle;\n",
       "    }\n",
       "\n",
       "    .dataframe tbody tr th {\n",
       "        vertical-align: top;\n",
       "    }\n",
       "\n",
       "    .dataframe thead th {\n",
       "        text-align: right;\n",
       "    }\n",
       "</style>\n",
       "<table border=\"1\" class=\"dataframe\">\n",
       "  <thead>\n",
       "    <tr style=\"text-align: right;\">\n",
       "      <th></th>\n",
       "      <th>isvd-30</th>\n",
       "      <th>knn-30</th>\n",
       "      <th>mean-30</th>\n",
       "      <th>median-30</th>\n",
       "      <th>zero-30</th>\n",
       "    </tr>\n",
       "  </thead>\n",
       "  <tbody>\n",
       "    <tr>\n",
       "      <th>0</th>\n",
       "      <td>0.813702</td>\n",
       "      <td>0.824921</td>\n",
       "      <td>0.768171</td>\n",
       "      <td>0.768982</td>\n",
       "      <td>0.650465</td>\n",
       "    </tr>\n",
       "    <tr>\n",
       "      <th>1</th>\n",
       "      <td>0.808427</td>\n",
       "      <td>0.798726</td>\n",
       "      <td>0.755092</td>\n",
       "      <td>0.756079</td>\n",
       "      <td>0.630535</td>\n",
       "    </tr>\n",
       "    <tr>\n",
       "      <th>2</th>\n",
       "      <td>0.807341</td>\n",
       "      <td>0.811175</td>\n",
       "      <td>0.764273</td>\n",
       "      <td>0.766248</td>\n",
       "      <td>0.643998</td>\n",
       "    </tr>\n",
       "    <tr>\n",
       "      <th>3</th>\n",
       "      <td>0.808712</td>\n",
       "      <td>0.807993</td>\n",
       "      <td>0.754964</td>\n",
       "      <td>0.753764</td>\n",
       "      <td>0.636155</td>\n",
       "    </tr>\n",
       "    <tr>\n",
       "      <th>4</th>\n",
       "      <td>0.823886</td>\n",
       "      <td>0.803492</td>\n",
       "      <td>0.773505</td>\n",
       "      <td>0.774912</td>\n",
       "      <td>0.647412</td>\n",
       "    </tr>\n",
       "    <tr>\n",
       "      <th>5</th>\n",
       "      <td>0.806351</td>\n",
       "      <td>0.798695</td>\n",
       "      <td>0.769546</td>\n",
       "      <td>0.771291</td>\n",
       "      <td>0.612866</td>\n",
       "    </tr>\n",
       "    <tr>\n",
       "      <th>6</th>\n",
       "      <td>0.836722</td>\n",
       "      <td>0.824387</td>\n",
       "      <td>0.776341</td>\n",
       "      <td>0.776774</td>\n",
       "      <td>0.648367</td>\n",
       "    </tr>\n",
       "    <tr>\n",
       "      <th>7</th>\n",
       "      <td>0.847417</td>\n",
       "      <td>0.824929</td>\n",
       "      <td>0.790174</td>\n",
       "      <td>0.792537</td>\n",
       "      <td>0.676484</td>\n",
       "    </tr>\n",
       "    <tr>\n",
       "      <th>8</th>\n",
       "      <td>0.835470</td>\n",
       "      <td>0.825184</td>\n",
       "      <td>0.795962</td>\n",
       "      <td>0.797214</td>\n",
       "      <td>0.668360</td>\n",
       "    </tr>\n",
       "    <tr>\n",
       "      <th>9</th>\n",
       "      <td>0.807882</td>\n",
       "      <td>0.809559</td>\n",
       "      <td>0.783501</td>\n",
       "      <td>0.784910</td>\n",
       "      <td>0.655904</td>\n",
       "    </tr>\n",
       "  </tbody>\n",
       "</table>\n",
       "</div>"
      ],
      "text/plain": [
       "    isvd-30    knn-30   mean-30  median-30   zero-30\n",
       "0  0.813702  0.824921  0.768171   0.768982  0.650465\n",
       "1  0.808427  0.798726  0.755092   0.756079  0.630535\n",
       "2  0.807341  0.811175  0.764273   0.766248  0.643998\n",
       "3  0.808712  0.807993  0.754964   0.753764  0.636155\n",
       "4  0.823886  0.803492  0.773505   0.774912  0.647412\n",
       "5  0.806351  0.798695  0.769546   0.771291  0.612866\n",
       "6  0.836722  0.824387  0.776341   0.776774  0.648367\n",
       "7  0.847417  0.824929  0.790174   0.792537  0.676484\n",
       "8  0.835470  0.825184  0.795962   0.797214  0.668360\n",
       "9  0.807882  0.809559  0.783501   0.784910  0.655904"
      ]
     },
     "execution_count": 9,
     "metadata": {},
     "output_type": "execute_result"
    }
   ],
   "source": [
    "data = get_dataframe('Pearson_correlation', '30')\n",
    "data"
   ]
  },
  {
   "cell_type": "code",
   "execution_count": 10,
   "metadata": {},
   "outputs": [
    {
     "name": "stdout",
     "output_type": "stream",
     "text": [
      "RankResult(rankdf=\n",
      "           meanrank      mean       std  ci_lower  ci_upper effect_size  \\\n",
      "zero-30         5.0  0.647054  0.018202  0.637728   0.65638         0.0   \n",
      "mean-30         3.9  0.773153  0.013748  0.763827  0.782479   -7.818004   \n",
      "median-30       3.1  0.774271  0.014270  0.764945  0.783597   -7.778844   \n",
      "knn-30          1.7  0.812906  0.011063   0.80358  0.822232  -11.011812   \n",
      "isvd-30         1.3  0.819591  0.015197  0.810265  0.828917  -10.290459   \n",
      "\n",
      "            magnitude  \n",
      "zero-30    negligible  \n",
      "mean-30         large  \n",
      "median-30       large  \n",
      "knn-30          large  \n",
      "isvd-30         large  \n",
      "pvalue=1.1102785606871394e-34\n",
      "cd=None\n",
      "omnibus=anova\n",
      "posthoc=tukeyhsd\n",
      "all_normal=True\n",
      "pvals_shapiro=[0.9550123810768127, 0.826589047908783, 0.04913511127233505, 0.7501552700996399, 0.024069365113973618]\n",
      "homoscedastic=True\n",
      "pval_homogeneity=0.7022679870482464\n",
      "homogeneity_test=bartlett\n",
      "alpha=0.05\n",
      "alpha_normality=0.01\n",
      "num_samples=10\n",
      "posterior_matrix=\n",
      "None\n",
      "decision_matrix=\n",
      "None\n",
      "rope=None\n",
      "rope_mode=None\n",
      "effect_size=cohen_d)\n"
     ]
    }
   ],
   "source": [
    "result = autorank(data, alpha=0.05, verbose=False)\n",
    "print(result)"
   ]
  },
  {
   "cell_type": "code",
   "execution_count": 11,
   "metadata": {},
   "outputs": [
    {
     "name": "stdout",
     "output_type": "stream",
     "text": [
      "The statistical analysis was conducted for 5 populations with 10 paired samples.\n",
      "The family-wise significance level of the tests is alpha=0.050.\n",
      "We failed to reject the null hypothesis that the population is normal for all populations (minimal observed p-value=0.024). Therefore, we assume that all populations are normal.\n",
      "We applied Bartlett's test for homogeneity and failed to reject the null hypothesis (p=0.702) that the data is homoscedastic. Thus, we assume that our data is homoscedastic.\n",
      "Because we have more than two populations and all populations are normal and homoscedastic, we use repeated measures ANOVA as omnibus test to determine if there are any significant differences between the mean values of the populations. If the results of the ANOVA test are significant, we use the post-hoc Tukey HSD test to infer which differences are significant. We report the mean value (M) and the standard deviation (SD) for each population. Populations are significantly different if their confidence intervals are not overlapping.\n",
      "We reject the null hypothesis (p=0.000) of the repeated measures ANOVA that there is a difference between the mean values of the populations zero-30 (M=0.647+-0.009, SD=0.018), mean-30 (M=0.773+-0.009, SD=0.014), median-30 (M=0.774+-0.009, SD=0.014), knn-30 (M=0.813+-0.009, SD=0.011), and isvd-30 (M=0.820+-0.009, SD=0.015). Therefore, we assume that there is a statistically significant difference between the mean values of the populations.\n",
      "Based post-hoc Tukey HSD test, we assume that there are no significant differences within the following groups: mean-30 and median-30; knn-30 and isvd-30. All other differences are significant.\n",
      "\n"
     ]
    }
   ],
   "source": [
    "create_report(result)"
   ]
  },
  {
   "cell_type": "code",
   "execution_count": 12,
   "metadata": {},
   "outputs": [
    {
     "data": {
      "image/png": "[encoded data removed]",
      "text/plain": [
       "<Figure size 600x500 with 1 Axes>"
      ]
     },
     "metadata": {},
     "output_type": "display_data"
    }
   ],
   "source": [
    "plot_stats(result)\n",
    "plt.show()"
   ]
  },
  {
   "cell_type": "code",
   "execution_count": 13,
   "metadata": {},
   "outputs": [
    {
     "name": "stdout",
     "output_type": "stream",
     "text": [
      "\\begin{table}[h]\n",
      "\\centering\n",
      "\\begin{tabular}{lrrlll}\n",
      "\\toprule\n",
      "{} &     M &    SD &              CI &     \\$d\\$ &   Magnitude \\\\\n",
      "\\midrule\n",
      "zero-30   & 0.647 & 0.018 &  [0.638, 0.656] &   0.000 &  negligible \\\\\n",
      "mean-30   & 0.773 & 0.014 &  [0.764, 0.782] &  -7.818 &       large \\\\\n",
      "median-30 & 0.774 & 0.014 &  [0.765, 0.784] &  -7.779 &       large \\\\\n",
      "knn-30    & 0.813 & 0.011 &  [0.804, 0.822] & -11.012 &       large \\\\\n",
      "isvd-30   & 0.820 & 0.015 &  [0.810, 0.829] & -10.290 &       large \\\\\n",
      "\\bottomrule\n",
      "\\end{tabular}\n",
      "\\caption{Summary of populations}\n",
      "\\label{tbl:stat_results}\n",
      "\\end{table}\n"
     ]
    },
    {
     "name": "stderr",
     "output_type": "stream",
     "text": [
      "/home/victor/.local/lib/python3.9/site-packages/autorank/autorank.py:697: FutureWarning: In future versions `DataFrame.to_latex` is expected to utilise the base implementation of `Styler.to_latex` for formatting and rendering. The arguments signature may therefore change. It is recommended instead to use `DataFrame.style.to_latex` which also contains additional functionality.\n",
      "  table_string = table_df.to_latex(float_format=float_format, na_rep='-').strip()\n"
     ]
    }
   ],
   "source": [
    "latex_table(result)"
   ]
  },
  {
   "cell_type": "markdown",
   "metadata": {},
   "source": [
    "<h1>Metric: RMSE, Percentage: 30</h1>"
   ]
  },
  {
   "cell_type": "code",
   "execution_count": 14,
   "metadata": {},
   "outputs": [
    {
     "data": {
      "text/html": [
       "<div>\n",
       "<style scoped>\n",
       "    .dataframe tbody tr th:only-of-type {\n",
       "        vertical-align: middle;\n",
       "    }\n",
       "\n",
       "    .dataframe tbody tr th {\n",
       "        vertical-align: top;\n",
       "    }\n",
       "\n",
       "    .dataframe thead th {\n",
       "        text-align: right;\n",
       "    }\n",
       "</style>\n",
       "<table border=\"1\" class=\"dataframe\">\n",
       "  <thead>\n",
       "    <tr style=\"text-align: right;\">\n",
       "      <th></th>\n",
       "      <th>isvd-30</th>\n",
       "      <th>knn-30</th>\n",
       "      <th>mean-30</th>\n",
       "      <th>median-30</th>\n",
       "      <th>zero-30</th>\n",
       "    </tr>\n",
       "  </thead>\n",
       "  <tbody>\n",
       "    <tr>\n",
       "      <th>0</th>\n",
       "      <td>1.970873</td>\n",
       "      <td>1.885927</td>\n",
       "      <td>2.245014</td>\n",
       "      <td>2.238459</td>\n",
       "      <td>2.986447</td>\n",
       "    </tr>\n",
       "    <tr>\n",
       "      <th>1</th>\n",
       "      <td>1.946739</td>\n",
       "      <td>1.973717</td>\n",
       "      <td>2.240865</td>\n",
       "      <td>2.232634</td>\n",
       "      <td>2.968392</td>\n",
       "    </tr>\n",
       "    <tr>\n",
       "      <th>2</th>\n",
       "      <td>1.946238</td>\n",
       "      <td>1.916203</td>\n",
       "      <td>2.219201</td>\n",
       "      <td>2.209607</td>\n",
       "      <td>2.966259</td>\n",
       "    </tr>\n",
       "    <tr>\n",
       "      <th>3</th>\n",
       "      <td>1.907918</td>\n",
       "      <td>1.902853</td>\n",
       "      <td>2.174607</td>\n",
       "      <td>2.186026</td>\n",
       "      <td>2.894122</td>\n",
       "    </tr>\n",
       "    <tr>\n",
       "      <th>4</th>\n",
       "      <td>1.840950</td>\n",
       "      <td>1.915711</td>\n",
       "      <td>2.106524</td>\n",
       "      <td>2.098081</td>\n",
       "      <td>2.928707</td>\n",
       "    </tr>\n",
       "    <tr>\n",
       "      <th>5</th>\n",
       "      <td>1.944802</td>\n",
       "      <td>1.970221</td>\n",
       "      <td>2.181414</td>\n",
       "      <td>2.177553</td>\n",
       "      <td>3.028599</td>\n",
       "    </tr>\n",
       "    <tr>\n",
       "      <th>6</th>\n",
       "      <td>1.851001</td>\n",
       "      <td>1.898338</td>\n",
       "      <td>2.190399</td>\n",
       "      <td>2.186105</td>\n",
       "      <td>3.009466</td>\n",
       "    </tr>\n",
       "    <tr>\n",
       "      <th>7</th>\n",
       "      <td>1.828306</td>\n",
       "      <td>1.942578</td>\n",
       "      <td>2.177401</td>\n",
       "      <td>2.160801</td>\n",
       "      <td>2.958904</td>\n",
       "    </tr>\n",
       "    <tr>\n",
       "      <th>8</th>\n",
       "      <td>1.865351</td>\n",
       "      <td>1.919487</td>\n",
       "      <td>2.133109</td>\n",
       "      <td>2.137025</td>\n",
       "      <td>2.955460</td>\n",
       "    </tr>\n",
       "    <tr>\n",
       "      <th>9</th>\n",
       "      <td>1.990444</td>\n",
       "      <td>1.966958</td>\n",
       "      <td>2.129805</td>\n",
       "      <td>2.121230</td>\n",
       "      <td>2.887692</td>\n",
       "    </tr>\n",
       "  </tbody>\n",
       "</table>\n",
       "</div>"
      ],
      "text/plain": [
       "    isvd-30    knn-30   mean-30  median-30   zero-30\n",
       "0  1.970873  1.885927  2.245014   2.238459  2.986447\n",
       "1  1.946739  1.973717  2.240865   2.232634  2.968392\n",
       "2  1.946238  1.916203  2.219201   2.209607  2.966259\n",
       "3  1.907918  1.902853  2.174607   2.186026  2.894122\n",
       "4  1.840950  1.915711  2.106524   2.098081  2.928707\n",
       "5  1.944802  1.970221  2.181414   2.177553  3.028599\n",
       "6  1.851001  1.898338  2.190399   2.186105  3.009466\n",
       "7  1.828306  1.942578  2.177401   2.160801  2.958904\n",
       "8  1.865351  1.919487  2.133109   2.137025  2.955460\n",
       "9  1.990444  1.966958  2.129805   2.121230  2.887692"
      ]
     },
     "execution_count": 14,
     "metadata": {},
     "output_type": "execute_result"
    }
   ],
   "source": [
    "data = get_dataframe('RMSE', '30')\n",
    "data"
   ]
  },
  {
   "cell_type": "code",
   "execution_count": 15,
   "metadata": {},
   "outputs": [
    {
     "name": "stdout",
     "output_type": "stream",
     "text": [
      "RankResult(rankdf=\n",
      "           meanrank      mean       std  ci_lower  ci_upper effect_size  \\\n",
      "isvd-30         4.6  1.909262  0.058657  1.879659  1.938865         0.0   \n",
      "knn-30          4.4  1.929199  0.032031  1.899597  1.958802   -0.421884   \n",
      "median-30       2.8  2.174752  0.046246  2.145149  2.204355   -5.026547   \n",
      "mean-30         2.2  2.179834  0.046822  2.150231  2.209437   -5.098343   \n",
      "zero-30         1.0  2.958405  0.045345  2.928802  2.988008  -20.012082   \n",
      "\n",
      "            magnitude  \n",
      "isvd-30    negligible  \n",
      "knn-30          small  \n",
      "median-30       large  \n",
      "mean-30         large  \n",
      "zero-30         large  \n",
      "pvalue=9.086660012000399e-38\n",
      "cd=None\n",
      "omnibus=anova\n",
      "posthoc=tukeyhsd\n",
      "all_normal=True\n",
      "pvals_shapiro=[0.26841598749160767, 0.22187037765979767, 0.8258798718452454, 0.6088860630989075, 0.7454147934913635]\n",
      "homoscedastic=True\n",
      "pval_homogeneity=0.5578977878230571\n",
      "homogeneity_test=bartlett\n",
      "alpha=0.05\n",
      "alpha_normality=0.01\n",
      "num_samples=10\n",
      "posterior_matrix=\n",
      "None\n",
      "decision_matrix=\n",
      "None\n",
      "rope=None\n",
      "rope_mode=None\n",
      "effect_size=cohen_d)\n"
     ]
    }
   ],
   "source": [
    "result = autorank(data, alpha=0.05, verbose=False)\n",
    "print(result)"
   ]
  },
  {
   "cell_type": "code",
   "execution_count": 16,
   "metadata": {},
   "outputs": [
    {
     "name": "stdout",
     "output_type": "stream",
     "text": [
      "The statistical analysis was conducted for 5 populations with 10 paired samples.\n",
      "The family-wise significance level of the tests is alpha=0.050.\n",
      "We failed to reject the null hypothesis that the population is normal for all populations (minimal observed p-value=0.222). Therefore, we assume that all populations are normal.\n",
      "We applied Bartlett's test for homogeneity and failed to reject the null hypothesis (p=0.558) that the data is homoscedastic. Thus, we assume that our data is homoscedastic.\n",
      "Because we have more than two populations and all populations are normal and homoscedastic, we use repeated measures ANOVA as omnibus test to determine if there are any significant differences between the mean values of the populations. If the results of the ANOVA test are significant, we use the post-hoc Tukey HSD test to infer which differences are significant. We report the mean value (M) and the standard deviation (SD) for each population. Populations are significantly different if their confidence intervals are not overlapping.\n",
      "We reject the null hypothesis (p=0.000) of the repeated measures ANOVA that there is a difference between the mean values of the populations isvd-30 (M=1.909+-0.030, SD=0.059), knn-30 (M=1.929+-0.030, SD=0.032), median-30 (M=2.175+-0.030, SD=0.046), mean-30 (M=2.180+-0.030, SD=0.047), and zero-30 (M=2.958+-0.030, SD=0.045). Therefore, we assume that there is a statistically significant difference between the mean values of the populations.\n",
      "Based post-hoc Tukey HSD test, we assume that there are no significant differences within the following groups: isvd-30 and knn-30; median-30 and mean-30. All other differences are significant.\n",
      "\n"
     ]
    }
   ],
   "source": [
    "create_report(result)"
   ]
  },
  {
   "cell_type": "code",
   "execution_count": 17,
   "metadata": {},
   "outputs": [
    {
     "data": {
      "image/png": "[encoded data removed]",
      "text/plain": [
       "<Figure size 600x500 with 1 Axes>"
      ]
     },
     "metadata": {},
     "output_type": "display_data"
    }
   ],
   "source": [
    "plot_stats(result)\n",
    "plt.show()"
   ]
  },
  {
   "cell_type": "code",
   "execution_count": 18,
   "metadata": {},
   "outputs": [
    {
     "name": "stdout",
     "output_type": "stream",
     "text": [
      "\\begin{table}[h]\n",
      "\\centering\n",
      "\\begin{tabular}{lrrlll}\n",
      "\\toprule\n",
      "{} &     M &    SD &              CI &     \\$d\\$ &   Magnitude \\\\\n",
      "\\midrule\n",
      "isvd-30   & 1.909 & 0.059 &  [1.880, 1.939] &   0.000 &  negligible \\\\\n",
      "knn-30    & 1.929 & 0.032 &  [1.900, 1.959] &  -0.422 &       small \\\\\n",
      "median-30 & 2.175 & 0.046 &  [2.145, 2.204] &  -5.027 &       large \\\\\n",
      "mean-30   & 2.180 & 0.047 &  [2.150, 2.209] &  -5.098 &       large \\\\\n",
      "zero-30   & 2.958 & 0.045 &  [2.929, 2.988] & -20.012 &       large \\\\\n",
      "\\bottomrule\n",
      "\\end{tabular}\n",
      "\\caption{Summary of populations}\n",
      "\\label{tbl:stat_results}\n",
      "\\end{table}\n"
     ]
    },
    {
     "name": "stderr",
     "output_type": "stream",
     "text": [
      "/home/victor/.local/lib/python3.9/site-packages/autorank/autorank.py:697: FutureWarning: In future versions `DataFrame.to_latex` is expected to utilise the base implementation of `Styler.to_latex` for formatting and rendering. The arguments signature may therefore change. It is recommended instead to use `DataFrame.style.to_latex` which also contains additional functionality.\n",
      "  table_string = table_df.to_latex(float_format=float_format, na_rep='-').strip()\n"
     ]
    }
   ],
   "source": [
    "latex_table(result)"
   ]
  }
 ],
 "metadata": {
  "kernelspec": {
   "display_name": "Python 3.9.9 64-bit",
   "language": "python",
   "name": "python3"
  },
  "language_info": {
   "codemirror_mode": {
    "name": "ipython",
    "version": 3
   },
   "file_extension": ".py",
   "mimetype": "text/x-python",
   "name": "python",
   "nbconvert_exporter": "python",
   "pygments_lexer": "ipython3",
   "version": "3.9.9"
  },
  "orig_nbformat": 4,
  "vscode": {
   "interpreter": {
    "hash": "31f2aee4e71d21fbe5cf8b01ff0e069b9275f58929596ceb00d14d90e3e16cd6"
   }
  }
 },
 "nbformat": 4,
 "nbformat_minor": 2
}
