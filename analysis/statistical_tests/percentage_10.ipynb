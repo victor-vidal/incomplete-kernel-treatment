{
 "cells": [
  {
   "cell_type": "code",
   "execution_count": 3,
   "metadata": {},
   "outputs": [],
   "source": [
    "import numpy as np\n",
    "import pandas as pd\n",
    "import matplotlib.pyplot as plt\n",
    "from autorank import autorank, plot_stats, create_report, latex_table"
   ]
  },
  {
   "cell_type": "code",
   "execution_count": 4,
   "metadata": {},
   "outputs": [],
   "source": [
    "techniques = ['isvd', 'knn', 'mean', 'median', 'zero']\n",
    "result_path = '../../imputed_kernels_results'\n",
    "\n",
    "\n",
    "def get_dataframe(metric: str, percentage: str):\n",
    "        cols = []\n",
    "        for technique in techniques:\n",
    "                cols.append(f'{technique}-{percentage}')\n",
    "\n",
    "\n",
    "        result = pd.DataFrame(columns=cols)\n",
    "\n",
    "\n",
    "        for fold in range(10):\n",
    "                new_row = []\n",
    "                \n",
    "                for technique in techniques:\n",
    "                        f1_score = np.loadtxt(f'{result_path}/{technique}/{percentage}/{metric}.txt')\n",
    "                        new_row.append(f1_score[fold])\n",
    "                \n",
    "                result.loc[fold] = new_row\n",
    "    \n",
    "        return result"
   ]
  },
  {
   "cell_type": "markdown",
   "metadata": {},
   "source": [
    "<h1>Metric: F1_score, Percentage: 10</h1>"
   ]
  },
  {
   "cell_type": "code",
   "execution_count": 5,
   "metadata": {},
   "outputs": [
    {
     "data": {
      "text/html": [
       "<div>\n",
       "<style scoped>\n",
       "    .dataframe tbody tr th:only-of-type {\n",
       "        vertical-align: middle;\n",
       "    }\n",
       "\n",
       "    .dataframe tbody tr th {\n",
       "        vertical-align: top;\n",
       "    }\n",
       "\n",
       "    .dataframe thead th {\n",
       "        text-align: right;\n",
       "    }\n",
       "</style>\n",
       "<table border=\"1\" class=\"dataframe\">\n",
       "  <thead>\n",
       "    <tr style=\"text-align: right;\">\n",
       "      <th></th>\n",
       "      <th>isvd-10</th>\n",
       "      <th>knn-10</th>\n",
       "      <th>mean-10</th>\n",
       "      <th>median-10</th>\n",
       "      <th>zero-10</th>\n",
       "    </tr>\n",
       "  </thead>\n",
       "  <tbody>\n",
       "    <tr>\n",
       "      <th>0</th>\n",
       "      <td>0.593200</td>\n",
       "      <td>0.614622</td>\n",
       "      <td>0.578588</td>\n",
       "      <td>0.592930</td>\n",
       "      <td>0.547297</td>\n",
       "    </tr>\n",
       "    <tr>\n",
       "      <th>1</th>\n",
       "      <td>0.623172</td>\n",
       "      <td>0.639225</td>\n",
       "      <td>0.601336</td>\n",
       "      <td>0.603774</td>\n",
       "      <td>0.566038</td>\n",
       "    </tr>\n",
       "    <tr>\n",
       "      <th>2</th>\n",
       "      <td>0.627824</td>\n",
       "      <td>0.635468</td>\n",
       "      <td>0.615917</td>\n",
       "      <td>0.613769</td>\n",
       "      <td>0.550169</td>\n",
       "    </tr>\n",
       "    <tr>\n",
       "      <th>3</th>\n",
       "      <td>0.619718</td>\n",
       "      <td>0.632628</td>\n",
       "      <td>0.589623</td>\n",
       "      <td>0.589623</td>\n",
       "      <td>0.565116</td>\n",
       "    </tr>\n",
       "    <tr>\n",
       "      <th>4</th>\n",
       "      <td>0.612981</td>\n",
       "      <td>0.627936</td>\n",
       "      <td>0.581477</td>\n",
       "      <td>0.585882</td>\n",
       "      <td>0.531646</td>\n",
       "    </tr>\n",
       "    <tr>\n",
       "      <th>5</th>\n",
       "      <td>0.585194</td>\n",
       "      <td>0.603681</td>\n",
       "      <td>0.569781</td>\n",
       "      <td>0.581986</td>\n",
       "      <td>0.576964</td>\n",
       "    </tr>\n",
       "    <tr>\n",
       "      <th>6</th>\n",
       "      <td>0.606635</td>\n",
       "      <td>0.625654</td>\n",
       "      <td>0.586854</td>\n",
       "      <td>0.592506</td>\n",
       "      <td>0.589831</td>\n",
       "    </tr>\n",
       "    <tr>\n",
       "      <th>7</th>\n",
       "      <td>0.659142</td>\n",
       "      <td>0.630952</td>\n",
       "      <td>0.597984</td>\n",
       "      <td>0.609375</td>\n",
       "      <td>0.548422</td>\n",
       "    </tr>\n",
       "    <tr>\n",
       "      <th>8</th>\n",
       "      <td>0.623153</td>\n",
       "      <td>0.620596</td>\n",
       "      <td>0.606205</td>\n",
       "      <td>0.590522</td>\n",
       "      <td>0.531616</td>\n",
       "    </tr>\n",
       "    <tr>\n",
       "      <th>9</th>\n",
       "      <td>0.623345</td>\n",
       "      <td>0.628352</td>\n",
       "      <td>0.566706</td>\n",
       "      <td>0.570048</td>\n",
       "      <td>0.530565</td>\n",
       "    </tr>\n",
       "  </tbody>\n",
       "</table>\n",
       "</div>"
      ],
      "text/plain": [
       "    isvd-10    knn-10   mean-10  median-10   zero-10\n",
       "0  0.593200  0.614622  0.578588   0.592930  0.547297\n",
       "1  0.623172  0.639225  0.601336   0.603774  0.566038\n",
       "2  0.627824  0.635468  0.615917   0.613769  0.550169\n",
       "3  0.619718  0.632628  0.589623   0.589623  0.565116\n",
       "4  0.612981  0.627936  0.581477   0.585882  0.531646\n",
       "5  0.585194  0.603681  0.569781   0.581986  0.576964\n",
       "6  0.606635  0.625654  0.586854   0.592506  0.589831\n",
       "7  0.659142  0.630952  0.597984   0.609375  0.548422\n",
       "8  0.623153  0.620596  0.606205   0.590522  0.531616\n",
       "9  0.623345  0.628352  0.566706   0.570048  0.530565"
      ]
     },
     "execution_count": 5,
     "metadata": {},
     "output_type": "execute_result"
    }
   ],
   "source": [
    "data = get_dataframe('F1_score', '10')\n",
    "data"
   ]
  },
  {
   "cell_type": "code",
   "execution_count": 17,
   "metadata": {},
   "outputs": [
    {
     "name": "stdout",
     "output_type": "stream",
     "text": [
      "RankResult(rankdf=\n",
      "           meanrank      mean       std  ci_lower  ci_upper effect_size  \\\n",
      "zero-10        4.80  0.553766  0.020330  0.543281  0.564252         0.0   \n",
      "mean-10        3.95  0.589447  0.015944  0.578962  0.599932   -1.953071   \n",
      "median-10      3.25  0.593042  0.013047  0.582556  0.603527   -2.299305   \n",
      "isvd-10        1.80  0.617436  0.020321  0.606951  0.627922   -3.132524   \n",
      "knn-10         1.20  0.625912  0.010536  0.615426  0.636397    -4.45576   \n",
      "\n",
      "            magnitude  \n",
      "zero-10    negligible  \n",
      "mean-10         large  \n",
      "median-10       large  \n",
      "isvd-10         large  \n",
      "knn-10          large  \n",
      "pvalue=1.505614149650135e-12\n",
      "cd=None\n",
      "omnibus=anova\n",
      "posthoc=tukeyhsd\n",
      "all_normal=True\n",
      "pvals_shapiro=[0.8211420774459839, 0.3702588379383087, 0.4561176002025604, 0.9329076409339905, 0.44662681221961975]\n",
      "homoscedastic=True\n",
      "pval_homogeneity=0.26792669064743657\n",
      "homogeneity_test=bartlett\n",
      "alpha=0.05\n",
      "alpha_normality=0.01\n",
      "num_samples=10\n",
      "posterior_matrix=\n",
      "None\n",
      "decision_matrix=\n",
      "None\n",
      "rope=None\n",
      "rope_mode=None\n",
      "effect_size=cohen_d)\n"
     ]
    }
   ],
   "source": [
    "result = autorank(data, alpha=0.05, verbose=False)\n",
    "print(result)"
   ]
  },
  {
   "cell_type": "code",
   "execution_count": 18,
   "metadata": {},
   "outputs": [
    {
     "name": "stdout",
     "output_type": "stream",
     "text": [
      "The statistical analysis was conducted for 5 populations with 10 paired samples.\n",
      "The family-wise significance level of the tests is alpha=0.050.\n",
      "We failed to reject the null hypothesis that the population is normal for all populations (minimal observed p-value=0.370). Therefore, we assume that all populations are normal.\n",
      "We applied Bartlett's test for homogeneity and failed to reject the null hypothesis (p=0.268) that the data is homoscedastic. Thus, we assume that our data is homoscedastic.\n",
      "Because we have more than two populations and all populations are normal and homoscedastic, we use repeated measures ANOVA as omnibus test to determine if there are any significant differences between the mean values of the populations. If the results of the ANOVA test are significant, we use the post-hoc Tukey HSD test to infer which differences are significant. We report the mean value (M) and the standard deviation (SD) for each population. Populations are significantly different if their confidence intervals are not overlapping.\n",
      "We reject the null hypothesis (p=0.000) of the repeated measures ANOVA that there is a difference between the mean values of the populations zero-10 (M=0.554+-0.010, SD=0.020), mean-10 (M=0.589+-0.010, SD=0.016), median-10 (M=0.593+-0.010, SD=0.013), isvd-10 (M=0.617+-0.010, SD=0.020), and knn-10 (M=0.626+-0.010, SD=0.011). Therefore, we assume that there is a statistically significant difference between the mean values of the populations.\n",
      "Based post-hoc Tukey HSD test, we assume that there are no significant differences within the following groups: mean-10 and median-10; isvd-10 and knn-10. All other differences are significant.\n",
      "\n"
     ]
    }
   ],
   "source": [
    "create_report(result)"
   ]
  },
  {
   "cell_type": "code",
   "execution_count": 19,
   "metadata": {},
   "outputs": [
    {
     "data": {
      "image/png": "[encoded data removed]",
      "text/plain": [
       "<Figure size 600x500 with 1 Axes>"
      ]
     },
     "metadata": {},
     "output_type": "display_data"
    }
   ],
   "source": [
    "plot_stats(result)\n",
    "plt.show()"
   ]
  },
  {
   "cell_type": "code",
   "execution_count": 20,
   "metadata": {},
   "outputs": [
    {
     "name": "stdout",
     "output_type": "stream",
     "text": [
      "\\begin{table}[h]\n",
      "\\centering\n",
      "\\begin{tabular}{lrrlll}\n",
      "\\toprule\n",
      "{} &     M &    SD &              CI &    \\$d\\$ &   Magnitude \\\\\n",
      "\\midrule\n",
      "zero-10   & 0.554 & 0.020 &  [0.543, 0.564] &  0.000 &  negligible \\\\\n",
      "mean-10   & 0.589 & 0.016 &  [0.579, 0.600] & -1.953 &       large \\\\\n",
      "median-10 & 0.593 & 0.013 &  [0.583, 0.604] & -2.299 &       large \\\\\n",
      "isvd-10   & 0.617 & 0.020 &  [0.607, 0.628] & -3.133 &       large \\\\\n",
      "knn-10    & 0.626 & 0.011 &  [0.615, 0.636] & -4.456 &       large \\\\\n",
      "\\bottomrule\n",
      "\\end{tabular}\n",
      "\\caption{Summary of populations}\n",
      "\\label{tbl:stat_results}\n",
      "\\end{table}\n"
     ]
    },
    {
     "name": "stderr",
     "output_type": "stream",
     "text": [
      "/home/victor/.local/lib/python3.9/site-packages/autorank/autorank.py:697: FutureWarning: In future versions `DataFrame.to_latex` is expected to utilise the base implementation of `Styler.to_latex` for formatting and rendering. The arguments signature may therefore change. It is recommended instead to use `DataFrame.style.to_latex` which also contains additional functionality.\n",
      "  table_string = table_df.to_latex(float_format=float_format, na_rep='-').strip()\n"
     ]
    }
   ],
   "source": [
    "latex_table(result)"
   ]
  },
  {
   "cell_type": "markdown",
   "metadata": {},
   "source": [
    "<h1>Metric: Pearson correlation, Percentage: 10</h1>"
   ]
  },
  {
   "cell_type": "code",
   "execution_count": 21,
   "metadata": {},
   "outputs": [
    {
     "data": {
      "text/html": [
       "<div>\n",
       "<style scoped>\n",
       "    .dataframe tbody tr th:only-of-type {\n",
       "        vertical-align: middle;\n",
       "    }\n",
       "\n",
       "    .dataframe tbody tr th {\n",
       "        vertical-align: top;\n",
       "    }\n",
       "\n",
       "    .dataframe thead th {\n",
       "        text-align: right;\n",
       "    }\n",
       "</style>\n",
       "<table border=\"1\" class=\"dataframe\">\n",
       "  <thead>\n",
       "    <tr style=\"text-align: right;\">\n",
       "      <th></th>\n",
       "      <th>isvd-10</th>\n",
       "      <th>knn-10</th>\n",
       "      <th>mean-10</th>\n",
       "      <th>median-10</th>\n",
       "      <th>zero-10</th>\n",
       "    </tr>\n",
       "  </thead>\n",
       "  <tbody>\n",
       "    <tr>\n",
       "      <th>0</th>\n",
       "      <td>0.786835</td>\n",
       "      <td>0.852042</td>\n",
       "      <td>0.769798</td>\n",
       "      <td>0.776255</td>\n",
       "      <td>0.724899</td>\n",
       "    </tr>\n",
       "    <tr>\n",
       "      <th>1</th>\n",
       "      <td>0.763554</td>\n",
       "      <td>0.831600</td>\n",
       "      <td>0.758332</td>\n",
       "      <td>0.762980</td>\n",
       "      <td>0.725286</td>\n",
       "    </tr>\n",
       "    <tr>\n",
       "      <th>2</th>\n",
       "      <td>0.787784</td>\n",
       "      <td>0.843122</td>\n",
       "      <td>0.756529</td>\n",
       "      <td>0.761488</td>\n",
       "      <td>0.715016</td>\n",
       "    </tr>\n",
       "    <tr>\n",
       "      <th>3</th>\n",
       "      <td>0.779060</td>\n",
       "      <td>0.837110</td>\n",
       "      <td>0.771085</td>\n",
       "      <td>0.775521</td>\n",
       "      <td>0.717311</td>\n",
       "    </tr>\n",
       "    <tr>\n",
       "      <th>4</th>\n",
       "      <td>0.764179</td>\n",
       "      <td>0.844365</td>\n",
       "      <td>0.770005</td>\n",
       "      <td>0.777029</td>\n",
       "      <td>0.732130</td>\n",
       "    </tr>\n",
       "    <tr>\n",
       "      <th>5</th>\n",
       "      <td>0.793685</td>\n",
       "      <td>0.837201</td>\n",
       "      <td>0.770410</td>\n",
       "      <td>0.773906</td>\n",
       "      <td>0.721701</td>\n",
       "    </tr>\n",
       "    <tr>\n",
       "      <th>6</th>\n",
       "      <td>0.789436</td>\n",
       "      <td>0.859165</td>\n",
       "      <td>0.788646</td>\n",
       "      <td>0.795277</td>\n",
       "      <td>0.752376</td>\n",
       "    </tr>\n",
       "    <tr>\n",
       "      <th>7</th>\n",
       "      <td>0.825406</td>\n",
       "      <td>0.862749</td>\n",
       "      <td>0.790581</td>\n",
       "      <td>0.795970</td>\n",
       "      <td>0.725856</td>\n",
       "    </tr>\n",
       "    <tr>\n",
       "      <th>8</th>\n",
       "      <td>0.788560</td>\n",
       "      <td>0.867329</td>\n",
       "      <td>0.790828</td>\n",
       "      <td>0.795410</td>\n",
       "      <td>0.741020</td>\n",
       "    </tr>\n",
       "    <tr>\n",
       "      <th>9</th>\n",
       "      <td>0.801110</td>\n",
       "      <td>0.845107</td>\n",
       "      <td>0.770560</td>\n",
       "      <td>0.776428</td>\n",
       "      <td>0.712334</td>\n",
       "    </tr>\n",
       "  </tbody>\n",
       "</table>\n",
       "</div>"
      ],
      "text/plain": [
       "    isvd-10    knn-10   mean-10  median-10   zero-10\n",
       "0  0.786835  0.852042  0.769798   0.776255  0.724899\n",
       "1  0.763554  0.831600  0.758332   0.762980  0.725286\n",
       "2  0.787784  0.843122  0.756529   0.761488  0.715016\n",
       "3  0.779060  0.837110  0.771085   0.775521  0.717311\n",
       "4  0.764179  0.844365  0.770005   0.777029  0.732130\n",
       "5  0.793685  0.837201  0.770410   0.773906  0.721701\n",
       "6  0.789436  0.859165  0.788646   0.795277  0.752376\n",
       "7  0.825406  0.862749  0.790581   0.795970  0.725856\n",
       "8  0.788560  0.867329  0.790828   0.795410  0.741020\n",
       "9  0.801110  0.845107  0.770560   0.776428  0.712334"
      ]
     },
     "execution_count": 21,
     "metadata": {},
     "output_type": "execute_result"
    }
   ],
   "source": [
    "data = get_dataframe('Pearson_correlation', '10')\n",
    "data"
   ]
  },
  {
   "cell_type": "code",
   "execution_count": 22,
   "metadata": {},
   "outputs": [
    {
     "name": "stdout",
     "output_type": "stream",
     "text": [
      "RankResult(rankdf=\n",
      "           meanrank      mean       std  ci_lower  ci_upper effect_size  \\\n",
      "zero-10         5.0  0.726793  0.012273  0.718153  0.735432         0.0   \n",
      "mean-10         3.8  0.773677  0.012424  0.765038  0.782317   -3.796725   \n",
      "median-10       2.7  0.779026  0.012656  0.770387  0.787666    -4.19007   \n",
      "isvd-10         2.5  0.787961  0.017802  0.779321    0.7966    -4.00067   \n",
      "knn-10          1.0  0.847979  0.011934   0.83934  0.856618  -10.011618   \n",
      "\n",
      "            magnitude  \n",
      "zero-10    negligible  \n",
      "mean-10         large  \n",
      "median-10       large  \n",
      "isvd-10         large  \n",
      "knn-10          large  \n",
      "pvalue=2.906232491529766e-25\n",
      "cd=None\n",
      "omnibus=anova\n",
      "posthoc=tukeyhsd\n",
      "all_normal=True\n",
      "pvals_shapiro=[0.0777198076248169, 0.32066187262535095, 0.5870745778083801, 0.06680566072463989, 0.3266863524913788]\n",
      "homoscedastic=True\n",
      "pval_homogeneity=0.7053842716927925\n",
      "homogeneity_test=bartlett\n",
      "alpha=0.05\n",
      "alpha_normality=0.01\n",
      "num_samples=10\n",
      "posterior_matrix=\n",
      "None\n",
      "decision_matrix=\n",
      "None\n",
      "rope=None\n",
      "rope_mode=None\n",
      "effect_size=cohen_d)\n"
     ]
    }
   ],
   "source": [
    "result = autorank(data, alpha=0.05, verbose=False)\n",
    "print(result)"
   ]
  },
  {
   "cell_type": "code",
   "execution_count": 23,
   "metadata": {},
   "outputs": [
    {
     "name": "stdout",
     "output_type": "stream",
     "text": [
      "The statistical analysis was conducted for 5 populations with 10 paired samples.\n",
      "The family-wise significance level of the tests is alpha=0.050.\n",
      "We failed to reject the null hypothesis that the population is normal for all populations (minimal observed p-value=0.067). Therefore, we assume that all populations are normal.\n",
      "We applied Bartlett's test for homogeneity and failed to reject the null hypothesis (p=0.705) that the data is homoscedastic. Thus, we assume that our data is homoscedastic.\n",
      "Because we have more than two populations and all populations are normal and homoscedastic, we use repeated measures ANOVA as omnibus test to determine if there are any significant differences between the mean values of the populations. If the results of the ANOVA test are significant, we use the post-hoc Tukey HSD test to infer which differences are significant. We report the mean value (M) and the standard deviation (SD) for each population. Populations are significantly different if their confidence intervals are not overlapping.\n",
      "We reject the null hypothesis (p=0.000) of the repeated measures ANOVA that there is a difference between the mean values of the populations zero-10 (M=0.727+-0.009, SD=0.012), mean-10 (M=0.774+-0.009, SD=0.012), median-10 (M=0.779+-0.009, SD=0.013), isvd-10 (M=0.788+-0.009, SD=0.018), and knn-10 (M=0.848+-0.009, SD=0.012). Therefore, we assume that there is a statistically significant difference between the mean values of the populations.\n",
      "Based post-hoc Tukey HSD test, we assume that there are no significant differences within the following groups: mean-10 and median-10. All other differences are significant.\n",
      "\n"
     ]
    }
   ],
   "source": [
    "create_report(result)"
   ]
  },
  {
   "cell_type": "code",
   "execution_count": 24,
   "metadata": {},
   "outputs": [
    {
     "data": {
      "image/png": "[encoded data removed]",
      "text/plain": [
       "<Figure size 600x500 with 1 Axes>"
      ]
     },
     "metadata": {},
     "output_type": "display_data"
    }
   ],
   "source": [
    "plot_stats(result)\n",
    "plt.show()"
   ]
  },
  {
   "cell_type": "code",
   "execution_count": 25,
   "metadata": {},
   "outputs": [
    {
     "name": "stdout",
     "output_type": "stream",
     "text": [
      "\\begin{table}[h]\n",
      "\\centering\n",
      "\\begin{tabular}{lrrlll}\n",
      "\\toprule\n",
      "{} &     M &    SD &              CI &     \\$d\\$ &   Magnitude \\\\\n",
      "\\midrule\n",
      "zero-10   & 0.727 & 0.012 &  [0.718, 0.735] &   0.000 &  negligible \\\\\n",
      "mean-10   & 0.774 & 0.012 &  [0.765, 0.782] &  -3.797 &       large \\\\\n",
      "median-10 & 0.779 & 0.013 &  [0.770, 0.788] &  -4.190 &       large \\\\\n",
      "isvd-10   & 0.788 & 0.018 &  [0.779, 0.797] &  -4.001 &       large \\\\\n",
      "knn-10    & 0.848 & 0.012 &  [0.839, 0.857] & -10.012 &       large \\\\\n",
      "\\bottomrule\n",
      "\\end{tabular}\n",
      "\\caption{Summary of populations}\n",
      "\\label{tbl:stat_results}\n",
      "\\end{table}\n"
     ]
    },
    {
     "name": "stderr",
     "output_type": "stream",
     "text": [
      "/home/victor/.local/lib/python3.9/site-packages/autorank/autorank.py:697: FutureWarning: In future versions `DataFrame.to_latex` is expected to utilise the base implementation of `Styler.to_latex` for formatting and rendering. The arguments signature may therefore change. It is recommended instead to use `DataFrame.style.to_latex` which also contains additional functionality.\n",
      "  table_string = table_df.to_latex(float_format=float_format, na_rep='-').strip()\n"
     ]
    }
   ],
   "source": [
    "latex_table(result)"
   ]
  },
  {
   "cell_type": "markdown",
   "metadata": {},
   "source": [
    "<h1>Metric: RMSE, Percentage: 10</h1>"
   ]
  },
  {
   "cell_type": "code",
   "execution_count": 26,
   "metadata": {},
   "outputs": [
    {
     "data": {
      "text/html": [
       "<div>\n",
       "<style scoped>\n",
       "    .dataframe tbody tr th:only-of-type {\n",
       "        vertical-align: middle;\n",
       "    }\n",
       "\n",
       "    .dataframe tbody tr th {\n",
       "        vertical-align: top;\n",
       "    }\n",
       "\n",
       "    .dataframe thead th {\n",
       "        text-align: right;\n",
       "    }\n",
       "</style>\n",
       "<table border=\"1\" class=\"dataframe\">\n",
       "  <thead>\n",
       "    <tr style=\"text-align: right;\">\n",
       "      <th></th>\n",
       "      <th>isvd-10</th>\n",
       "      <th>knn-10</th>\n",
       "      <th>mean-10</th>\n",
       "      <th>median-10</th>\n",
       "      <th>zero-10</th>\n",
       "    </tr>\n",
       "  </thead>\n",
       "  <tbody>\n",
       "    <tr>\n",
       "      <th>0</th>\n",
       "      <td>2.122768</td>\n",
       "      <td>1.737775</td>\n",
       "      <td>2.221801</td>\n",
       "      <td>2.184834</td>\n",
       "      <td>2.491391</td>\n",
       "    </tr>\n",
       "    <tr>\n",
       "      <th>1</th>\n",
       "      <td>2.225089</td>\n",
       "      <td>1.797991</td>\n",
       "      <td>2.220971</td>\n",
       "      <td>2.201349</td>\n",
       "      <td>2.459227</td>\n",
       "    </tr>\n",
       "    <tr>\n",
       "      <th>2</th>\n",
       "      <td>2.060253</td>\n",
       "      <td>1.737535</td>\n",
       "      <td>2.216004</td>\n",
       "      <td>2.186896</td>\n",
       "      <td>2.457613</td>\n",
       "    </tr>\n",
       "    <tr>\n",
       "      <th>3</th>\n",
       "      <td>2.085192</td>\n",
       "      <td>1.743146</td>\n",
       "      <td>2.125185</td>\n",
       "      <td>2.099808</td>\n",
       "      <td>2.392679</td>\n",
       "    </tr>\n",
       "    <tr>\n",
       "      <th>4</th>\n",
       "      <td>2.197323</td>\n",
       "      <td>1.696963</td>\n",
       "      <td>2.112756</td>\n",
       "      <td>2.082456</td>\n",
       "      <td>2.396346</td>\n",
       "    </tr>\n",
       "    <tr>\n",
       "      <th>5</th>\n",
       "      <td>2.016030</td>\n",
       "      <td>1.768694</td>\n",
       "      <td>2.153371</td>\n",
       "      <td>2.137475</td>\n",
       "      <td>2.461677</td>\n",
       "    </tr>\n",
       "    <tr>\n",
       "      <th>6</th>\n",
       "      <td>2.123183</td>\n",
       "      <td>1.692632</td>\n",
       "      <td>2.120233</td>\n",
       "      <td>2.091615</td>\n",
       "      <td>2.389940</td>\n",
       "    </tr>\n",
       "    <tr>\n",
       "      <th>7</th>\n",
       "      <td>1.964302</td>\n",
       "      <td>1.717698</td>\n",
       "      <td>2.181843</td>\n",
       "      <td>2.145625</td>\n",
       "      <td>2.552421</td>\n",
       "    </tr>\n",
       "    <tr>\n",
       "      <th>8</th>\n",
       "      <td>2.154920</td>\n",
       "      <td>1.667870</td>\n",
       "      <td>2.139551</td>\n",
       "      <td>2.109538</td>\n",
       "      <td>2.443578</td>\n",
       "    </tr>\n",
       "    <tr>\n",
       "      <th>9</th>\n",
       "      <td>2.039390</td>\n",
       "      <td>1.765891</td>\n",
       "      <td>2.207568</td>\n",
       "      <td>2.173448</td>\n",
       "      <td>2.541722</td>\n",
       "    </tr>\n",
       "  </tbody>\n",
       "</table>\n",
       "</div>"
      ],
      "text/plain": [
       "    isvd-10    knn-10   mean-10  median-10   zero-10\n",
       "0  2.122768  1.737775  2.221801   2.184834  2.491391\n",
       "1  2.225089  1.797991  2.220971   2.201349  2.459227\n",
       "2  2.060253  1.737535  2.216004   2.186896  2.457613\n",
       "3  2.085192  1.743146  2.125185   2.099808  2.392679\n",
       "4  2.197323  1.696963  2.112756   2.082456  2.396346\n",
       "5  2.016030  1.768694  2.153371   2.137475  2.461677\n",
       "6  2.123183  1.692632  2.120233   2.091615  2.389940\n",
       "7  1.964302  1.717698  2.181843   2.145625  2.552421\n",
       "8  2.154920  1.667870  2.139551   2.109538  2.443578\n",
       "9  2.039390  1.765891  2.207568   2.173448  2.541722"
      ]
     },
     "execution_count": 26,
     "metadata": {},
     "output_type": "execute_result"
    }
   ],
   "source": [
    "data = get_dataframe('RMSE', '10')\n",
    "data"
   ]
  },
  {
   "cell_type": "code",
   "execution_count": 27,
   "metadata": {},
   "outputs": [
    {
     "name": "stdout",
     "output_type": "stream",
     "text": [
      "RankResult(rankdf=\n",
      "           meanrank      mean       std  ci_lower  ci_upper effect_size  \\\n",
      "knn-10          5.0  1.732620  0.039622  1.697253  1.767986         0.0   \n",
      "median-10       3.4  2.141304  0.043854  2.105938  2.176671   -9.779152   \n",
      "isvd-10         3.2  2.098845  0.081728  2.063479  2.134211   -5.702353   \n",
      "mean-10         2.4  2.169928  0.044616  2.134562  2.205295  -10.364576   \n",
      "zero-10         1.0  2.458659  0.057695  2.423293  2.494026  -14.670276   \n",
      "\n",
      "            magnitude  \n",
      "knn-10     negligible  \n",
      "median-10       large  \n",
      "isvd-10         large  \n",
      "mean-10         large  \n",
      "zero-10         large  \n",
      "pvalue=8.131529663440653e-26\n",
      "cd=None\n",
      "omnibus=anova\n",
      "posthoc=tukeyhsd\n",
      "all_normal=True\n",
      "pvals_shapiro=[0.09332724660634995, 0.9840733408927917, 0.32927531003952026, 0.9569670557975769, 0.2658359706401825]\n",
      "homoscedastic=True\n",
      "pval_homogeneity=0.16208180048172513\n",
      "homogeneity_test=bartlett\n",
      "alpha=0.05\n",
      "alpha_normality=0.01\n",
      "num_samples=10\n",
      "posterior_matrix=\n",
      "None\n",
      "decision_matrix=\n",
      "None\n",
      "rope=None\n",
      "rope_mode=None\n",
      "effect_size=cohen_d)\n"
     ]
    }
   ],
   "source": [
    "result = autorank(data, alpha=0.05, verbose=False)\n",
    "print(result)"
   ]
  },
  {
   "cell_type": "code",
   "execution_count": 28,
   "metadata": {},
   "outputs": [
    {
     "name": "stdout",
     "output_type": "stream",
     "text": [
      "The statistical analysis was conducted for 5 populations with 10 paired samples.\n",
      "The family-wise significance level of the tests is alpha=0.050.\n",
      "We failed to reject the null hypothesis that the population is normal for all populations (minimal observed p-value=0.093). Therefore, we assume that all populations are normal.\n",
      "We applied Bartlett's test for homogeneity and failed to reject the null hypothesis (p=0.162) that the data is homoscedastic. Thus, we assume that our data is homoscedastic.\n",
      "Because we have more than two populations and all populations are normal and homoscedastic, we use repeated measures ANOVA as omnibus test to determine if there are any significant differences between the mean values of the populations. If the results of the ANOVA test are significant, we use the post-hoc Tukey HSD test to infer which differences are significant. We report the mean value (M) and the standard deviation (SD) for each population. Populations are significantly different if their confidence intervals are not overlapping.\n",
      "We reject the null hypothesis (p=0.000) of the repeated measures ANOVA that there is a difference between the mean values of the populations knn-10 (M=1.733+-0.035, SD=0.040), median-10 (M=2.141+-0.035, SD=0.044), isvd-10 (M=2.099+-0.035, SD=0.082), mean-10 (M=2.170+-0.035, SD=0.045), and zero-10 (M=2.459+-0.035, SD=0.058). Therefore, we assume that there is a statistically significant difference between the mean values of the populations.\n",
      "Based post-hoc Tukey HSD test, we assume that there are no significant differences within the following groups: median-10, isvd-10, and mean-10. All other differences are significant.\n",
      "\n"
     ]
    }
   ],
   "source": [
    "create_report(result)"
   ]
  },
  {
   "cell_type": "code",
   "execution_count": 29,
   "metadata": {},
   "outputs": [
    {
     "data": {
      "image/png": "[encoded data removed]",
      "text/plain": [
       "<Figure size 600x500 with 1 Axes>"
      ]
     },
     "metadata": {},
     "output_type": "display_data"
    }
   ],
   "source": [
    "plot_stats(result)\n",
    "plt.show()"
   ]
  },
  {
   "cell_type": "code",
   "execution_count": 30,
   "metadata": {},
   "outputs": [
    {
     "name": "stdout",
     "output_type": "stream",
     "text": [
      "\\begin{table}[h]\n",
      "\\centering\n",
      "\\begin{tabular}{lrrlll}\n",
      "\\toprule\n",
      "{} &     M &    SD &              CI &     \\$d\\$ &   Magnitude \\\\\n",
      "\\midrule\n",
      "knn-10    & 1.733 & 0.040 &  [1.697, 1.768] &   0.000 &  negligible \\\\\n",
      "median-10 & 2.141 & 0.044 &  [2.106, 2.177] &  -9.779 &       large \\\\\n",
      "isvd-10   & 2.099 & 0.082 &  [2.063, 2.134] &  -5.702 &       large \\\\\n",
      "mean-10   & 2.170 & 0.045 &  [2.135, 2.205] & -10.365 &       large \\\\\n",
      "zero-10   & 2.459 & 0.058 &  [2.423, 2.494] & -14.670 &       large \\\\\n",
      "\\bottomrule\n",
      "\\end{tabular}\n",
      "\\caption{Summary of populations}\n",
      "\\label{tbl:stat_results}\n",
      "\\end{table}\n"
     ]
    },
    {
     "name": "stderr",
     "output_type": "stream",
     "text": [
      "/home/victor/.local/lib/python3.9/site-packages/autorank/autorank.py:697: FutureWarning: In future versions `DataFrame.to_latex` is expected to utilise the base implementation of `Styler.to_latex` for formatting and rendering. The arguments signature may therefore change. It is recommended instead to use `DataFrame.style.to_latex` which also contains additional functionality.\n",
      "  table_string = table_df.to_latex(float_format=float_format, na_rep='-').strip()\n"
     ]
    }
   ],
   "source": [
    "latex_table(result)"
   ]
  }
 ],
 "metadata": {
  "kernelspec": {
   "display_name": "Python 3.9.9 64-bit",
   "language": "python",
   "name": "python3"
  },
  "language_info": {
   "codemirror_mode": {
    "name": "ipython",
    "version": 3
   },
   "file_extension": ".py",
   "mimetype": "text/x-python",
   "name": "python",
   "nbconvert_exporter": "python",
   "pygments_lexer": "ipython3",
   "version": "3.9.9"
  },
  "orig_nbformat": 4,
  "vscode": {
   "interpreter": {
    "hash": "31f2aee4e71d21fbe5cf8b01ff0e069b9275f58929596ceb00d14d90e3e16cd6"
   }
  }
 },
 "nbformat": 4,
 "nbformat_minor": 2
}
