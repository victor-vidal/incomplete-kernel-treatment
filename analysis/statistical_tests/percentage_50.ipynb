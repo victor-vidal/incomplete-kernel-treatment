{
 "cells": [
  {
   "cell_type": "code",
   "execution_count": 1,
   "metadata": {},
   "outputs": [],
   "source": [
    "import numpy as np\n",
    "import pandas as pd\n",
    "import matplotlib.pyplot as plt\n",
    "from autorank import autorank, plot_stats, create_report, latex_table"
   ]
  },
  {
   "cell_type": "code",
   "execution_count": 2,
   "metadata": {},
   "outputs": [],
   "source": [
    "techniques = ['isvd', 'knn', 'mean', 'median', 'zero']\n",
    "result_path = '../../imputed_kernels_results'\n",
    "\n",
    "\n",
    "def get_dataframe(metric: str, percentage: str):\n",
    "        cols = []\n",
    "        for technique in techniques:\n",
    "                cols.append(f'{technique}-{percentage}')\n",
    "\n",
    "\n",
    "        result = pd.DataFrame(columns=cols)\n",
    "\n",
    "\n",
    "        for fold in range(10):\n",
    "                new_row = []\n",
    "                \n",
    "                for technique in techniques:\n",
    "                        f1_score = np.loadtxt(f'{result_path}/{technique}/{percentage}/{metric}.txt')\n",
    "                        new_row.append(f1_score[fold])\n",
    "                \n",
    "                result.loc[fold] = new_row\n",
    "    \n",
    "        return result"
   ]
  },
  {
   "cell_type": "markdown",
   "metadata": {},
   "source": [
    "<h1>Metric: F1_score, Percentage: 50</h1>"
   ]
  },
  {
   "cell_type": "code",
   "execution_count": 3,
   "metadata": {},
   "outputs": [
    {
     "data": {
      "text/html": [
       "<div>\n",
       "<style scoped>\n",
       "    .dataframe tbody tr th:only-of-type {\n",
       "        vertical-align: middle;\n",
       "    }\n",
       "\n",
       "    .dataframe tbody tr th {\n",
       "        vertical-align: top;\n",
       "    }\n",
       "\n",
       "    .dataframe thead th {\n",
       "        text-align: right;\n",
       "    }\n",
       "</style>\n",
       "<table border=\"1\" class=\"dataframe\">\n",
       "  <thead>\n",
       "    <tr style=\"text-align: right;\">\n",
       "      <th></th>\n",
       "      <th>isvd-50</th>\n",
       "      <th>knn-50</th>\n",
       "      <th>mean-50</th>\n",
       "      <th>median-50</th>\n",
       "      <th>zero-50</th>\n",
       "    </tr>\n",
       "  </thead>\n",
       "  <tbody>\n",
       "    <tr>\n",
       "      <th>0</th>\n",
       "      <td>0.607798</td>\n",
       "      <td>0.552954</td>\n",
       "      <td>0.578588</td>\n",
       "      <td>0.568129</td>\n",
       "      <td>0.465066</td>\n",
       "    </tr>\n",
       "    <tr>\n",
       "      <th>1</th>\n",
       "      <td>0.613303</td>\n",
       "      <td>0.587983</td>\n",
       "      <td>0.577778</td>\n",
       "      <td>0.573643</td>\n",
       "      <td>0.501027</td>\n",
       "    </tr>\n",
       "    <tr>\n",
       "      <th>2</th>\n",
       "      <td>0.602837</td>\n",
       "      <td>0.575221</td>\n",
       "      <td>0.600000</td>\n",
       "      <td>0.594966</td>\n",
       "      <td>0.529843</td>\n",
       "    </tr>\n",
       "    <tr>\n",
       "      <th>3</th>\n",
       "      <td>0.603325</td>\n",
       "      <td>0.525253</td>\n",
       "      <td>0.570115</td>\n",
       "      <td>0.560641</td>\n",
       "      <td>0.512821</td>\n",
       "    </tr>\n",
       "    <tr>\n",
       "      <th>4</th>\n",
       "      <td>0.589651</td>\n",
       "      <td>0.572077</td>\n",
       "      <td>0.563743</td>\n",
       "      <td>0.570431</td>\n",
       "      <td>0.503627</td>\n",
       "    </tr>\n",
       "    <tr>\n",
       "      <th>5</th>\n",
       "      <td>0.585648</td>\n",
       "      <td>0.538293</td>\n",
       "      <td>0.575964</td>\n",
       "      <td>0.595696</td>\n",
       "      <td>0.509606</td>\n",
       "    </tr>\n",
       "    <tr>\n",
       "      <th>6</th>\n",
       "      <td>0.595294</td>\n",
       "      <td>0.550790</td>\n",
       "      <td>0.594533</td>\n",
       "      <td>0.580571</td>\n",
       "      <td>0.529718</td>\n",
       "    </tr>\n",
       "    <tr>\n",
       "      <th>7</th>\n",
       "      <td>0.609481</td>\n",
       "      <td>0.576052</td>\n",
       "      <td>0.617230</td>\n",
       "      <td>0.607261</td>\n",
       "      <td>0.534553</td>\n",
       "    </tr>\n",
       "    <tr>\n",
       "      <th>8</th>\n",
       "      <td>0.580402</td>\n",
       "      <td>0.519722</td>\n",
       "      <td>0.572127</td>\n",
       "      <td>0.557214</td>\n",
       "      <td>0.517699</td>\n",
       "    </tr>\n",
       "    <tr>\n",
       "      <th>9</th>\n",
       "      <td>0.591284</td>\n",
       "      <td>0.553633</td>\n",
       "      <td>0.578704</td>\n",
       "      <td>0.572422</td>\n",
       "      <td>0.470085</td>\n",
       "    </tr>\n",
       "  </tbody>\n",
       "</table>\n",
       "</div>"
      ],
      "text/plain": [
       "    isvd-50    knn-50   mean-50  median-50   zero-50\n",
       "0  0.607798  0.552954  0.578588   0.568129  0.465066\n",
       "1  0.613303  0.587983  0.577778   0.573643  0.501027\n",
       "2  0.602837  0.575221  0.600000   0.594966  0.529843\n",
       "3  0.603325  0.525253  0.570115   0.560641  0.512821\n",
       "4  0.589651  0.572077  0.563743   0.570431  0.503627\n",
       "5  0.585648  0.538293  0.575964   0.595696  0.509606\n",
       "6  0.595294  0.550790  0.594533   0.580571  0.529718\n",
       "7  0.609481  0.576052  0.617230   0.607261  0.534553\n",
       "8  0.580402  0.519722  0.572127   0.557214  0.517699\n",
       "9  0.591284  0.553633  0.578704   0.572422  0.470085"
      ]
     },
     "execution_count": 3,
     "metadata": {},
     "output_type": "execute_result"
    }
   ],
   "source": [
    "data = get_dataframe('F1_score', '50')\n",
    "data"
   ]
  },
  {
   "cell_type": "code",
   "execution_count": 4,
   "metadata": {},
   "outputs": [
    {
     "name": "stdout",
     "output_type": "stream",
     "text": [
      "RankResult(rankdf=\n",
      "           meanrank      mean       std  ci_lower  ci_upper effect_size  \\\n",
      "zero-50         5.0  0.507404  0.023849  0.495557  0.519252         0.0   \n",
      "knn-50          3.6  0.555198  0.022763  0.543351  0.567045   -2.050131   \n",
      "median-50       2.9  0.578097  0.016337   0.56625  0.589945   -3.458452   \n",
      "mean-50         2.3  0.582878  0.016205  0.571031  0.594725   -3.701837   \n",
      "isvd-50         1.2  0.597902  0.011046  0.586055   0.60975   -4.869547   \n",
      "\n",
      "            magnitude  \n",
      "zero-50    negligible  \n",
      "knn-50          large  \n",
      "median-50       large  \n",
      "mean-50         large  \n",
      "isvd-50         large  \n",
      "pvalue=6.549714326929114e-15\n",
      "cd=None\n",
      "omnibus=anova\n",
      "posthoc=tukeyhsd\n",
      "all_normal=True\n",
      "pvals_shapiro=[0.1736593395471573, 0.6246978044509888, 0.45894569158554077, 0.14230476319789886, 0.7306395173072815]\n",
      "homoscedastic=True\n",
      "pval_homogeneity=0.19601472577905965\n",
      "homogeneity_test=bartlett\n",
      "alpha=0.05\n",
      "alpha_normality=0.01\n",
      "num_samples=10\n",
      "posterior_matrix=\n",
      "None\n",
      "decision_matrix=\n",
      "None\n",
      "rope=None\n",
      "rope_mode=None\n",
      "effect_size=cohen_d)\n"
     ]
    }
   ],
   "source": [
    "result = autorank(data, alpha=0.05, verbose=False)\n",
    "print(result)"
   ]
  },
  {
   "cell_type": "code",
   "execution_count": 5,
   "metadata": {},
   "outputs": [
    {
     "name": "stdout",
     "output_type": "stream",
     "text": [
      "The statistical analysis was conducted for 5 populations with 10 paired samples.\n",
      "The family-wise significance level of the tests is alpha=0.050.\n",
      "We failed to reject the null hypothesis that the population is normal for all populations (minimal observed p-value=0.142). Therefore, we assume that all populations are normal.\n",
      "We applied Bartlett's test for homogeneity and failed to reject the null hypothesis (p=0.196) that the data is homoscedastic. Thus, we assume that our data is homoscedastic.\n",
      "Because we have more than two populations and all populations are normal and homoscedastic, we use repeated measures ANOVA as omnibus test to determine if there are any significant differences between the mean values of the populations. If the results of the ANOVA test are significant, we use the post-hoc Tukey HSD test to infer which differences are significant. We report the mean value (M) and the standard deviation (SD) for each population. Populations are significantly different if their confidence intervals are not overlapping.\n",
      "We reject the null hypothesis (p=0.000) of the repeated measures ANOVA that there is a difference between the mean values of the populations zero-50 (M=0.507+-0.012, SD=0.024), knn-50 (M=0.555+-0.012, SD=0.023), median-50 (M=0.578+-0.012, SD=0.016), mean-50 (M=0.583+-0.012, SD=0.016), and isvd-50 (M=0.598+-0.012, SD=0.011). Therefore, we assume that there is a statistically significant difference between the mean values of the populations.\n",
      "Based post-hoc Tukey HSD test, we assume that there are no significant differences within the following groups: median-50 and mean-50. All other differences are significant.\n",
      "\n"
     ]
    }
   ],
   "source": [
    "create_report(result)"
   ]
  },
  {
   "cell_type": "code",
   "execution_count": 6,
   "metadata": {},
   "outputs": [
    {
     "data": {
      "image/png": "[encoded data removed]",
      "text/plain": [
       "<Figure size 600x500 with 1 Axes>"
      ]
     },
     "metadata": {},
     "output_type": "display_data"
    }
   ],
   "source": [
    "plot_stats(result)\n",
    "plt.show()"
   ]
  },
  {
   "cell_type": "code",
   "execution_count": 7,
   "metadata": {},
   "outputs": [
    {
     "name": "stdout",
     "output_type": "stream",
     "text": [
      "\\begin{table}[h]\n",
      "\\centering\n",
      "\\begin{tabular}{lrrlll}\n",
      "\\toprule\n",
      "{} &     M &    SD &              CI &    \\$d\\$ &   Magnitude \\\\\n",
      "\\midrule\n",
      "zero-50   & 0.507 & 0.024 &  [0.496, 0.519] &  0.000 &  negligible \\\\\n",
      "knn-50    & 0.555 & 0.023 &  [0.543, 0.567] & -2.050 &       large \\\\\n",
      "median-50 & 0.578 & 0.016 &  [0.566, 0.590] & -3.458 &       large \\\\\n",
      "mean-50   & 0.583 & 0.016 &  [0.571, 0.595] & -3.702 &       large \\\\\n",
      "isvd-50   & 0.598 & 0.011 &  [0.586, 0.610] & -4.870 &       large \\\\\n",
      "\\bottomrule\n",
      "\\end{tabular}\n",
      "\\caption{Summary of populations}\n",
      "\\label{tbl:stat_results}\n",
      "\\end{table}\n"
     ]
    },
    {
     "name": "stderr",
     "output_type": "stream",
     "text": [
      "/home/victor/.local/lib/python3.9/site-packages/autorank/autorank.py:697: FutureWarning: In future versions `DataFrame.to_latex` is expected to utilise the base implementation of `Styler.to_latex` for formatting and rendering. The arguments signature may therefore change. It is recommended instead to use `DataFrame.style.to_latex` which also contains additional functionality.\n",
      "  table_string = table_df.to_latex(float_format=float_format, na_rep='-').strip()\n"
     ]
    }
   ],
   "source": [
    "latex_table(result)"
   ]
  },
  {
   "cell_type": "markdown",
   "metadata": {},
   "source": [
    "<h1>Metric: Pearson correlation, Percentage: 50</h1>"
   ]
  },
  {
   "cell_type": "code",
   "execution_count": 8,
   "metadata": {},
   "outputs": [
    {
     "data": {
      "text/html": [
       "<div>\n",
       "<style scoped>\n",
       "    .dataframe tbody tr th:only-of-type {\n",
       "        vertical-align: middle;\n",
       "    }\n",
       "\n",
       "    .dataframe tbody tr th {\n",
       "        vertical-align: top;\n",
       "    }\n",
       "\n",
       "    .dataframe thead th {\n",
       "        text-align: right;\n",
       "    }\n",
       "</style>\n",
       "<table border=\"1\" class=\"dataframe\">\n",
       "  <thead>\n",
       "    <tr style=\"text-align: right;\">\n",
       "      <th></th>\n",
       "      <th>isvd-50</th>\n",
       "      <th>knn-50</th>\n",
       "      <th>mean-50</th>\n",
       "      <th>median-50</th>\n",
       "      <th>zero-50</th>\n",
       "    </tr>\n",
       "  </thead>\n",
       "  <tbody>\n",
       "    <tr>\n",
       "      <th>0</th>\n",
       "      <td>0.784663</td>\n",
       "      <td>0.657552</td>\n",
       "      <td>0.750772</td>\n",
       "      <td>0.747538</td>\n",
       "      <td>0.564100</td>\n",
       "    </tr>\n",
       "    <tr>\n",
       "      <th>1</th>\n",
       "      <td>0.769619</td>\n",
       "      <td>0.631599</td>\n",
       "      <td>0.741686</td>\n",
       "      <td>0.746482</td>\n",
       "      <td>0.545855</td>\n",
       "    </tr>\n",
       "    <tr>\n",
       "      <th>2</th>\n",
       "      <td>0.770828</td>\n",
       "      <td>0.668600</td>\n",
       "      <td>0.737113</td>\n",
       "      <td>0.734623</td>\n",
       "      <td>0.589959</td>\n",
       "    </tr>\n",
       "    <tr>\n",
       "      <th>3</th>\n",
       "      <td>0.766413</td>\n",
       "      <td>0.628016</td>\n",
       "      <td>0.726703</td>\n",
       "      <td>0.726386</td>\n",
       "      <td>0.562277</td>\n",
       "    </tr>\n",
       "    <tr>\n",
       "      <th>4</th>\n",
       "      <td>0.776734</td>\n",
       "      <td>0.654846</td>\n",
       "      <td>0.740546</td>\n",
       "      <td>0.739633</td>\n",
       "      <td>0.562729</td>\n",
       "    </tr>\n",
       "    <tr>\n",
       "      <th>5</th>\n",
       "      <td>0.775131</td>\n",
       "      <td>0.637406</td>\n",
       "      <td>0.754356</td>\n",
       "      <td>0.761226</td>\n",
       "      <td>0.568933</td>\n",
       "    </tr>\n",
       "    <tr>\n",
       "      <th>6</th>\n",
       "      <td>0.788262</td>\n",
       "      <td>0.697926</td>\n",
       "      <td>0.761974</td>\n",
       "      <td>0.755246</td>\n",
       "      <td>0.605419</td>\n",
       "    </tr>\n",
       "    <tr>\n",
       "      <th>7</th>\n",
       "      <td>0.809707</td>\n",
       "      <td>0.675261</td>\n",
       "      <td>0.772929</td>\n",
       "      <td>0.771148</td>\n",
       "      <td>0.615786</td>\n",
       "    </tr>\n",
       "    <tr>\n",
       "      <th>8</th>\n",
       "      <td>0.794865</td>\n",
       "      <td>0.664543</td>\n",
       "      <td>0.770515</td>\n",
       "      <td>0.770109</td>\n",
       "      <td>0.600050</td>\n",
       "    </tr>\n",
       "    <tr>\n",
       "      <th>9</th>\n",
       "      <td>0.780911</td>\n",
       "      <td>0.673830</td>\n",
       "      <td>0.740243</td>\n",
       "      <td>0.743960</td>\n",
       "      <td>0.536586</td>\n",
       "    </tr>\n",
       "  </tbody>\n",
       "</table>\n",
       "</div>"
      ],
      "text/plain": [
       "    isvd-50    knn-50   mean-50  median-50   zero-50\n",
       "0  0.784663  0.657552  0.750772   0.747538  0.564100\n",
       "1  0.769619  0.631599  0.741686   0.746482  0.545855\n",
       "2  0.770828  0.668600  0.737113   0.734623  0.589959\n",
       "3  0.766413  0.628016  0.726703   0.726386  0.562277\n",
       "4  0.776734  0.654846  0.740546   0.739633  0.562729\n",
       "5  0.775131  0.637406  0.754356   0.761226  0.568933\n",
       "6  0.788262  0.697926  0.761974   0.755246  0.605419\n",
       "7  0.809707  0.675261  0.772929   0.771148  0.615786\n",
       "8  0.794865  0.664543  0.770515   0.770109  0.600050\n",
       "9  0.780911  0.673830  0.740243   0.743960  0.536586"
      ]
     },
     "execution_count": 8,
     "metadata": {},
     "output_type": "execute_result"
    }
   ],
   "source": [
    "data = get_dataframe('Pearson_correlation', '50')\n",
    "data"
   ]
  },
  {
   "cell_type": "code",
   "execution_count": 9,
   "metadata": {},
   "outputs": [
    {
     "name": "stdout",
     "output_type": "stream",
     "text": [
      "RankResult(rankdf=\n",
      "           meanrank      mean       std  ci_lower  ci_upper effect_size  \\\n",
      "zero-50         5.0  0.575169  0.026316  0.563129  0.587209         0.0   \n",
      "knn-50          4.0  0.658958  0.021906  0.646918  0.670998   -3.460638   \n",
      "median-50       2.7  0.749635  0.014758  0.737595  0.761675   -8.177449   \n",
      "mean-50         2.3  0.749684  0.015170  0.737644  0.761724   -8.124974   \n",
      "isvd-50         1.0  0.781713  0.013232  0.769673  0.793753   -9.916436   \n",
      "\n",
      "            magnitude  \n",
      "zero-50    negligible  \n",
      "knn-50          large  \n",
      "median-50       large  \n",
      "mean-50         large  \n",
      "isvd-50         large  \n",
      "pvalue=8.524920071433879e-31\n",
      "cd=None\n",
      "omnibus=anova\n",
      "posthoc=tukeyhsd\n",
      "all_normal=True\n",
      "pvals_shapiro=[0.5871083736419678, 0.7366673350334167, 0.8010888695716858, 0.6034201383590698, 0.41823023557662964]\n",
      "homoscedastic=True\n",
      "pval_homogeneity=0.18656358970824502\n",
      "homogeneity_test=bartlett\n",
      "alpha=0.05\n",
      "alpha_normality=0.01\n",
      "num_samples=10\n",
      "posterior_matrix=\n",
      "None\n",
      "decision_matrix=\n",
      "None\n",
      "rope=None\n",
      "rope_mode=None\n",
      "effect_size=cohen_d)\n"
     ]
    }
   ],
   "source": [
    "result = autorank(data, alpha=0.05, verbose=False)\n",
    "print(result)"
   ]
  },
  {
   "cell_type": "code",
   "execution_count": 10,
   "metadata": {},
   "outputs": [
    {
     "name": "stdout",
     "output_type": "stream",
     "text": [
      "The statistical analysis was conducted for 5 populations with 10 paired samples.\n",
      "The family-wise significance level of the tests is alpha=0.050.\n",
      "We failed to reject the null hypothesis that the population is normal for all populations (minimal observed p-value=0.418). Therefore, we assume that all populations are normal.\n",
      "We applied Bartlett's test for homogeneity and failed to reject the null hypothesis (p=0.187) that the data is homoscedastic. Thus, we assume that our data is homoscedastic.\n",
      "Because we have more than two populations and all populations are normal and homoscedastic, we use repeated measures ANOVA as omnibus test to determine if there are any significant differences between the mean values of the populations. If the results of the ANOVA test are significant, we use the post-hoc Tukey HSD test to infer which differences are significant. We report the mean value (M) and the standard deviation (SD) for each population. Populations are significantly different if their confidence intervals are not overlapping.\n",
      "We reject the null hypothesis (p=0.000) of the repeated measures ANOVA that there is a difference between the mean values of the populations zero-50 (M=0.575+-0.012, SD=0.026), knn-50 (M=0.659+-0.012, SD=0.022), median-50 (M=0.750+-0.012, SD=0.015), mean-50 (M=0.750+-0.012, SD=0.015), and isvd-50 (M=0.782+-0.012, SD=0.013). Therefore, we assume that there is a statistically significant difference between the mean values of the populations.\n",
      "Based post-hoc Tukey HSD test, we assume that there are no significant differences within the following groups: median-50 and mean-50. All other differences are significant.\n",
      "\n"
     ]
    }
   ],
   "source": [
    "create_report(result)"
   ]
  },
  {
   "cell_type": "code",
   "execution_count": 11,
   "metadata": {},
   "outputs": [
    {
     "data": {
      "image/png": "[encoded data removed]",
      "text/plain": [
       "<Figure size 600x500 with 1 Axes>"
      ]
     },
     "metadata": {},
     "output_type": "display_data"
    }
   ],
   "source": [
    "plot_stats(result)\n",
    "plt.show()"
   ]
  },
  {
   "cell_type": "code",
   "execution_count": 12,
   "metadata": {},
   "outputs": [
    {
     "name": "stdout",
     "output_type": "stream",
     "text": [
      "\\begin{table}[h]\n",
      "\\centering\n",
      "\\begin{tabular}{lrrlll}\n",
      "\\toprule\n",
      "{} &     M &    SD &              CI &    \\$d\\$ &   Magnitude \\\\\n",
      "\\midrule\n",
      "zero-50   & 0.575 & 0.026 &  [0.563, 0.587] &  0.000 &  negligible \\\\\n",
      "knn-50    & 0.659 & 0.022 &  [0.647, 0.671] & -3.461 &       large \\\\\n",
      "median-50 & 0.750 & 0.015 &  [0.738, 0.762] & -8.177 &       large \\\\\n",
      "mean-50   & 0.750 & 0.015 &  [0.738, 0.762] & -8.125 &       large \\\\\n",
      "isvd-50   & 0.782 & 0.013 &  [0.770, 0.794] & -9.916 &       large \\\\\n",
      "\\bottomrule\n",
      "\\end{tabular}\n",
      "\\caption{Summary of populations}\n",
      "\\label{tbl:stat_results}\n",
      "\\end{table}\n"
     ]
    },
    {
     "name": "stderr",
     "output_type": "stream",
     "text": [
      "/home/victor/.local/lib/python3.9/site-packages/autorank/autorank.py:697: FutureWarning: In future versions `DataFrame.to_latex` is expected to utilise the base implementation of `Styler.to_latex` for formatting and rendering. The arguments signature may therefore change. It is recommended instead to use `DataFrame.style.to_latex` which also contains additional functionality.\n",
      "  table_string = table_df.to_latex(float_format=float_format, na_rep='-').strip()\n"
     ]
    }
   ],
   "source": [
    "latex_table(result)"
   ]
  },
  {
   "cell_type": "markdown",
   "metadata": {},
   "source": [
    "<h1>Metric: RMSE, Percentage: 50</h1>"
   ]
  },
  {
   "cell_type": "code",
   "execution_count": 13,
   "metadata": {},
   "outputs": [
    {
     "data": {
      "text/html": [
       "<div>\n",
       "<style scoped>\n",
       "    .dataframe tbody tr th:only-of-type {\n",
       "        vertical-align: middle;\n",
       "    }\n",
       "\n",
       "    .dataframe tbody tr th {\n",
       "        vertical-align: top;\n",
       "    }\n",
       "\n",
       "    .dataframe thead th {\n",
       "        text-align: right;\n",
       "    }\n",
       "</style>\n",
       "<table border=\"1\" class=\"dataframe\">\n",
       "  <thead>\n",
       "    <tr style=\"text-align: right;\">\n",
       "      <th></th>\n",
       "      <th>isvd-50</th>\n",
       "      <th>knn-50</th>\n",
       "      <th>mean-50</th>\n",
       "      <th>median-50</th>\n",
       "      <th>zero-50</th>\n",
       "    </tr>\n",
       "  </thead>\n",
       "  <tbody>\n",
       "    <tr>\n",
       "      <th>0</th>\n",
       "      <td>2.129297</td>\n",
       "      <td>2.846436</td>\n",
       "      <td>2.346896</td>\n",
       "      <td>2.371898</td>\n",
       "      <td>3.557744</td>\n",
       "    </tr>\n",
       "    <tr>\n",
       "      <th>1</th>\n",
       "      <td>2.151449</td>\n",
       "      <td>2.991118</td>\n",
       "      <td>2.334372</td>\n",
       "      <td>2.321905</td>\n",
       "      <td>3.628998</td>\n",
       "    </tr>\n",
       "    <tr>\n",
       "      <th>2</th>\n",
       "      <td>2.143318</td>\n",
       "      <td>2.750701</td>\n",
       "      <td>2.342460</td>\n",
       "      <td>2.352244</td>\n",
       "      <td>3.468851</td>\n",
       "    </tr>\n",
       "    <tr>\n",
       "      <th>3</th>\n",
       "      <td>2.129743</td>\n",
       "      <td>2.886467</td>\n",
       "      <td>2.351553</td>\n",
       "      <td>2.348424</td>\n",
       "      <td>3.583087</td>\n",
       "    </tr>\n",
       "    <tr>\n",
       "      <th>4</th>\n",
       "      <td>2.084254</td>\n",
       "      <td>2.851724</td>\n",
       "      <td>2.303729</td>\n",
       "      <td>2.304059</td>\n",
       "      <td>3.541906</td>\n",
       "    </tr>\n",
       "    <tr>\n",
       "      <th>5</th>\n",
       "      <td>2.111378</td>\n",
       "      <td>2.859036</td>\n",
       "      <td>2.243688</td>\n",
       "      <td>2.214480</td>\n",
       "      <td>3.441333</td>\n",
       "    </tr>\n",
       "    <tr>\n",
       "      <th>6</th>\n",
       "      <td>2.120590</td>\n",
       "      <td>2.733962</td>\n",
       "      <td>2.292425</td>\n",
       "      <td>2.327595</td>\n",
       "      <td>3.462815</td>\n",
       "    </tr>\n",
       "    <tr>\n",
       "      <th>7</th>\n",
       "      <td>2.074871</td>\n",
       "      <td>2.861613</td>\n",
       "      <td>2.292266</td>\n",
       "      <td>2.300378</td>\n",
       "      <td>3.384980</td>\n",
       "    </tr>\n",
       "    <tr>\n",
       "      <th>8</th>\n",
       "      <td>2.097292</td>\n",
       "      <td>2.918031</td>\n",
       "      <td>2.245494</td>\n",
       "      <td>2.238671</td>\n",
       "      <td>3.591181</td>\n",
       "    </tr>\n",
       "    <tr>\n",
       "      <th>9</th>\n",
       "      <td>2.150735</td>\n",
       "      <td>2.867653</td>\n",
       "      <td>2.371631</td>\n",
       "      <td>2.346647</td>\n",
       "      <td>3.629738</td>\n",
       "    </tr>\n",
       "  </tbody>\n",
       "</table>\n",
       "</div>"
      ],
      "text/plain": [
       "    isvd-50    knn-50   mean-50  median-50   zero-50\n",
       "0  2.129297  2.846436  2.346896   2.371898  3.557744\n",
       "1  2.151449  2.991118  2.334372   2.321905  3.628998\n",
       "2  2.143318  2.750701  2.342460   2.352244  3.468851\n",
       "3  2.129743  2.886467  2.351553   2.348424  3.583087\n",
       "4  2.084254  2.851724  2.303729   2.304059  3.541906\n",
       "5  2.111378  2.859036  2.243688   2.214480  3.441333\n",
       "6  2.120590  2.733962  2.292425   2.327595  3.462815\n",
       "7  2.074871  2.861613  2.292266   2.300378  3.384980\n",
       "8  2.097292  2.918031  2.245494   2.238671  3.591181\n",
       "9  2.150735  2.867653  2.371631   2.346647  3.629738"
      ]
     },
     "execution_count": 13,
     "metadata": {},
     "output_type": "execute_result"
    }
   ],
   "source": [
    "data = get_dataframe('RMSE', '50')\n",
    "data"
   ]
  },
  {
   "cell_type": "code",
   "execution_count": 14,
   "metadata": {},
   "outputs": [
    {
     "name": "stdout",
     "output_type": "stream",
     "text": [
      "RankResult(rankdf=\n",
      "           meanrank      mean       std  ci_lower  ci_upper effect_size  \\\n",
      "isvd-50         5.0  2.119293  0.026995   2.09155  2.147035         0.0   \n",
      "mean-50         3.5  2.312451  0.044341  2.266883   2.35802   -5.262152   \n",
      "median-50       3.5  2.312630  0.050725  2.260501   2.36476   -4.758382   \n",
      "knn-50          2.0  2.856674  0.074009  2.780616  2.932732  -13.237317   \n",
      "zero-50         1.0  3.529063  0.084563  3.442159  3.615968  -22.460074   \n",
      "\n",
      "            magnitude  \n",
      "isvd-50    negligible  \n",
      "mean-50         large  \n",
      "median-50       large  \n",
      "knn-50          large  \n",
      "zero-50         large  \n",
      "pvalue=1.1205592875074531e-07\n",
      "cd=1.9288111473713958\n",
      "omnibus=friedman\n",
      "posthoc=nemenyi\n",
      "all_normal=True\n",
      "pvals_shapiro=[0.49023860692977905, 0.16259783506393433, 0.37609046697616577, 0.3318065106868744, 0.4248492419719696]\n",
      "homoscedastic=False\n",
      "pval_homogeneity=0.016685560363856\n",
      "homogeneity_test=bartlett\n",
      "alpha=0.05\n",
      "alpha_normality=0.01\n",
      "num_samples=10\n",
      "posterior_matrix=\n",
      "None\n",
      "decision_matrix=\n",
      "None\n",
      "rope=None\n",
      "rope_mode=None\n",
      "effect_size=cohen_d)\n"
     ]
    }
   ],
   "source": [
    "result = autorank(data, alpha=0.05, verbose=False)\n",
    "print(result)"
   ]
  },
  {
   "cell_type": "code",
   "execution_count": 15,
   "metadata": {},
   "outputs": [
    {
     "name": "stdout",
     "output_type": "stream",
     "text": [
      "The statistical analysis was conducted for 5 populations with 10 paired samples.\n",
      "The family-wise significance level of the tests is alpha=0.050.\n",
      "We failed to reject the null hypothesis that the population is normal for all populations (minimal observed p-value=0.163). Therefore, we assume that all populations are normal.\n",
      "We applied Bartlett's test for homogeneity and reject the null hypothesis (p=0.017) that thedata is homoscedastic. Thus, we assume that our data is heteroscedastic.\n",
      "Because we have more than two populations and the populations are normal but heteroscedastic, we use the non-parametric Friedman test as omnibus test to determine if there are any significant differences between the mean values of the populations. We use the post-hoc Nemenyi test to infer which differences are significant. We report the mean value (M), the standard deviation (SD) and the mean rank (MR) among all populations over the samples. Differences between populations are significant, if the difference of the mean rank is greater than the critical distance CD=1.929 of the Nemenyi test.\n",
      "We reject the null hypothesis (p=0.000) of the Friedman test that there is no difference in the central tendency of the populations isvd-50 (M=2.119+-0.028, SD=0.027, MR=5.000), mean-50 (M=2.312+-0.046, SD=0.044, MR=3.500), median-50 (M=2.313+-0.052, SD=0.051, MR=3.500), knn-50 (M=2.857+-0.076, SD=0.074, MR=2.000), and zero-50 (M=3.529+-0.087, SD=0.085, MR=1.000). Therefore, we assume that there is a statistically significant difference between the median values of the populations.\n",
      "Based on the post-hoc Nemenyi test, we assume that there are no significant differences within the following groups: isvd-50, mean-50, and median-50; mean-50, median-50, and knn-50; knn-50 and zero-50. All other differences are significant.\n"
     ]
    }
   ],
   "source": [
    "create_report(result)"
   ]
  },
  {
   "cell_type": "code",
   "execution_count": 16,
   "metadata": {},
   "outputs": [
    {
     "data": {
      "image/png": "[encoded data removed]",
      "text/plain": [
       "<Figure size 600x185 with 1 Axes>"
      ]
     },
     "metadata": {},
     "output_type": "display_data"
    }
   ],
   "source": [
    "plot_stats(result)\n",
    "plt.show()"
   ]
  },
  {
   "cell_type": "code",
   "execution_count": 17,
   "metadata": {},
   "outputs": [
    {
     "name": "stdout",
     "output_type": "stream",
     "text": [
      "\\begin{table}[h]\n",
      "\\centering\n",
      "\\begin{tabular}{lrrrlll}\n",
      "\\toprule\n",
      "{} &    MR &     M &    SD &              CI &     \\$d\\$ &   Magnitude \\\\\n",
      "\\midrule\n",
      "isvd-50   & 5.000 & 2.119 & 0.027 &  [2.092, 2.147] &   0.000 &  negligible \\\\\n",
      "mean-50   & 3.500 & 2.312 & 0.044 &  [2.267, 2.358] &  -5.262 &       large \\\\\n",
      "median-50 & 3.500 & 2.313 & 0.051 &  [2.261, 2.365] &  -4.758 &       large \\\\\n",
      "knn-50    & 2.000 & 2.857 & 0.074 &  [2.781, 2.933] & -13.237 &       large \\\\\n",
      "zero-50   & 1.000 & 3.529 & 0.085 &  [3.442, 3.616] & -22.460 &       large \\\\\n",
      "\\bottomrule\n",
      "\\end{tabular}\n",
      "\\caption{Summary of populations}\n",
      "\\label{tbl:stat_results}\n",
      "\\end{table}\n"
     ]
    },
    {
     "name": "stderr",
     "output_type": "stream",
     "text": [
      "/home/victor/.local/lib/python3.9/site-packages/autorank/autorank.py:697: FutureWarning: In future versions `DataFrame.to_latex` is expected to utilise the base implementation of `Styler.to_latex` for formatting and rendering. The arguments signature may therefore change. It is recommended instead to use `DataFrame.style.to_latex` which also contains additional functionality.\n",
      "  table_string = table_df.to_latex(float_format=float_format, na_rep='-').strip()\n"
     ]
    }
   ],
   "source": [
    "latex_table(result)"
   ]
  }
 ],
 "metadata": {
  "kernelspec": {
   "display_name": "Python 3.9.9 64-bit",
   "language": "python",
   "name": "python3"
  },
  "language_info": {
   "codemirror_mode": {
    "name": "ipython",
    "version": 3
   },
   "file_extension": ".py",
   "mimetype": "text/x-python",
   "name": "python",
   "nbconvert_exporter": "python",
   "pygments_lexer": "ipython3",
   "version": "3.9.9"
  },
  "orig_nbformat": 4,
  "vscode": {
   "interpreter": {
    "hash": "31f2aee4e71d21fbe5cf8b01ff0e069b9275f58929596ceb00d14d90e3e16cd6"
   }
  }
 },
 "nbformat": 4,
 "nbformat_minor": 2
}
