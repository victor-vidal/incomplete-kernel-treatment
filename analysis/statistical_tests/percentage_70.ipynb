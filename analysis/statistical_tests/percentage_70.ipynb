{
 "cells": [
  {
   "cell_type": "code",
   "execution_count": 1,
   "metadata": {},
   "outputs": [],
   "source": [
    "import numpy as np\n",
    "import pandas as pd\n",
    "import matplotlib.pyplot as plt\n",
    "from autorank import autorank, plot_stats, create_report, latex_table"
   ]
  },
  {
   "cell_type": "code",
   "execution_count": 3,
   "metadata": {},
   "outputs": [],
   "source": [
    "techniques = ['isvd', 'knn', 'mean', 'median', 'zero']\n",
    "result_path = '../../imputed_kernels_results'\n",
    "\n",
    "\n",
    "def get_dataframe(metric: str, percentage: str):\n",
    "        cols = []\n",
    "        for technique in techniques:\n",
    "                cols.append(f'{technique}-{percentage}')\n",
    "\n",
    "\n",
    "        result = pd.DataFrame(columns=cols)\n",
    "\n",
    "\n",
    "        for fold in range(10):\n",
    "                new_row = []\n",
    "                \n",
    "                for technique in techniques:\n",
    "                        f1_score = np.loadtxt(f'{result_path}/{technique}/{percentage}/{metric}.txt')\n",
    "                        new_row.append(f1_score[fold])\n",
    "                \n",
    "                result.loc[fold] = new_row\n",
    "    \n",
    "        return result"
   ]
  },
  {
   "cell_type": "markdown",
   "metadata": {},
   "source": [
    "<h1>Metric: F1_score, Percentage: 70</h1>"
   ]
  },
  {
   "cell_type": "code",
   "execution_count": 4,
   "metadata": {},
   "outputs": [
    {
     "data": {
      "text/html": [
       "<div>\n",
       "<style scoped>\n",
       "    .dataframe tbody tr th:only-of-type {\n",
       "        vertical-align: middle;\n",
       "    }\n",
       "\n",
       "    .dataframe tbody tr th {\n",
       "        vertical-align: top;\n",
       "    }\n",
       "\n",
       "    .dataframe thead th {\n",
       "        text-align: right;\n",
       "    }\n",
       "</style>\n",
       "<table border=\"1\" class=\"dataframe\">\n",
       "  <thead>\n",
       "    <tr style=\"text-align: right;\">\n",
       "      <th></th>\n",
       "      <th>isvd-70</th>\n",
       "      <th>knn-70</th>\n",
       "      <th>mean-70</th>\n",
       "      <th>median-70</th>\n",
       "      <th>zero-70</th>\n",
       "    </tr>\n",
       "  </thead>\n",
       "  <tbody>\n",
       "    <tr>\n",
       "      <th>0</th>\n",
       "      <td>0.557110</td>\n",
       "      <td>0.567481</td>\n",
       "      <td>0.599327</td>\n",
       "      <td>0.599099</td>\n",
       "      <td>0.489837</td>\n",
       "    </tr>\n",
       "    <tr>\n",
       "      <th>1</th>\n",
       "      <td>0.606264</td>\n",
       "      <td>0.541126</td>\n",
       "      <td>0.585143</td>\n",
       "      <td>0.597727</td>\n",
       "      <td>0.462926</td>\n",
       "    </tr>\n",
       "    <tr>\n",
       "      <th>2</th>\n",
       "      <td>0.576349</td>\n",
       "      <td>0.538961</td>\n",
       "      <td>0.591647</td>\n",
       "      <td>0.588372</td>\n",
       "      <td>0.490603</td>\n",
       "    </tr>\n",
       "    <tr>\n",
       "      <th>3</th>\n",
       "      <td>0.564460</td>\n",
       "      <td>0.584682</td>\n",
       "      <td>0.597254</td>\n",
       "      <td>0.605923</td>\n",
       "      <td>0.488613</td>\n",
       "    </tr>\n",
       "    <tr>\n",
       "      <th>4</th>\n",
       "      <td>0.582072</td>\n",
       "      <td>0.550785</td>\n",
       "      <td>0.569106</td>\n",
       "      <td>0.582547</td>\n",
       "      <td>0.501031</td>\n",
       "    </tr>\n",
       "    <tr>\n",
       "      <th>5</th>\n",
       "      <td>0.560452</td>\n",
       "      <td>0.569904</td>\n",
       "      <td>0.584091</td>\n",
       "      <td>0.587699</td>\n",
       "      <td>0.507375</td>\n",
       "    </tr>\n",
       "    <tr>\n",
       "      <th>6</th>\n",
       "      <td>0.595597</td>\n",
       "      <td>0.577726</td>\n",
       "      <td>0.598608</td>\n",
       "      <td>0.584029</td>\n",
       "      <td>0.474649</td>\n",
       "    </tr>\n",
       "    <tr>\n",
       "      <th>7</th>\n",
       "      <td>0.584989</td>\n",
       "      <td>0.569551</td>\n",
       "      <td>0.591422</td>\n",
       "      <td>0.611236</td>\n",
       "      <td>0.503511</td>\n",
       "    </tr>\n",
       "    <tr>\n",
       "      <th>8</th>\n",
       "      <td>0.578164</td>\n",
       "      <td>0.586982</td>\n",
       "      <td>0.576779</td>\n",
       "      <td>0.581773</td>\n",
       "      <td>0.481186</td>\n",
       "    </tr>\n",
       "    <tr>\n",
       "      <th>9</th>\n",
       "      <td>0.570093</td>\n",
       "      <td>0.570792</td>\n",
       "      <td>0.574394</td>\n",
       "      <td>0.591908</td>\n",
       "      <td>0.502629</td>\n",
       "    </tr>\n",
       "  </tbody>\n",
       "</table>\n",
       "</div>"
      ],
      "text/plain": [
       "    isvd-70    knn-70   mean-70  median-70   zero-70\n",
       "0  0.557110  0.567481  0.599327   0.599099  0.489837\n",
       "1  0.606264  0.541126  0.585143   0.597727  0.462926\n",
       "2  0.576349  0.538961  0.591647   0.588372  0.490603\n",
       "3  0.564460  0.584682  0.597254   0.605923  0.488613\n",
       "4  0.582072  0.550785  0.569106   0.582547  0.501031\n",
       "5  0.560452  0.569904  0.584091   0.587699  0.507375\n",
       "6  0.595597  0.577726  0.598608   0.584029  0.474649\n",
       "7  0.584989  0.569551  0.591422   0.611236  0.503511\n",
       "8  0.578164  0.586982  0.576779   0.581773  0.481186\n",
       "9  0.570093  0.570792  0.574394   0.591908  0.502629"
      ]
     },
     "execution_count": 4,
     "metadata": {},
     "output_type": "execute_result"
    }
   ],
   "source": [
    "data = get_dataframe('F1_score', '70')\n",
    "data"
   ]
  },
  {
   "cell_type": "code",
   "execution_count": 5,
   "metadata": {},
   "outputs": [
    {
     "name": "stdout",
     "output_type": "stream",
     "text": [
      "RankResult(rankdf=\n",
      "           meanrank      mean       std  ci_lower  ci_upper effect_size  \\\n",
      "zero-70         5.0  0.490236  0.014196  0.481507  0.498965         0.0   \n",
      "knn-70          3.3  0.565799  0.016868   0.55707  0.574528   -4.847164   \n",
      "isvd-70         3.0  0.577555  0.015509  0.568826  0.586284   -5.873293   \n",
      "mean-70         2.1  0.586777  0.010687  0.578048  0.595506   -7.683572   \n",
      "median-70       1.6  0.593031  0.010141  0.584303   0.60176   -8.332831   \n",
      "\n",
      "            magnitude  \n",
      "zero-70    negligible  \n",
      "knn-70          large  \n",
      "isvd-70         large  \n",
      "mean-70         large  \n",
      "median-70       large  \n",
      "pvalue=8.521040515595838e-18\n",
      "cd=None\n",
      "omnibus=anova\n",
      "posthoc=tukeyhsd\n",
      "all_normal=True\n",
      "pvals_shapiro=[0.42042049765586853, 0.23363667726516724, 0.36520472168922424, 0.4833107590675354, 0.8407180309295654]\n",
      "homoscedastic=True\n",
      "pval_homogeneity=0.49850413604727273\n",
      "homogeneity_test=bartlett\n",
      "alpha=0.05\n",
      "alpha_normality=0.01\n",
      "num_samples=10\n",
      "posterior_matrix=\n",
      "None\n",
      "decision_matrix=\n",
      "None\n",
      "rope=None\n",
      "rope_mode=None\n",
      "effect_size=cohen_d)\n"
     ]
    }
   ],
   "source": [
    "result = autorank(data, alpha=0.05, verbose=False)\n",
    "print(result)"
   ]
  },
  {
   "cell_type": "code",
   "execution_count": 6,
   "metadata": {},
   "outputs": [
    {
     "name": "stdout",
     "output_type": "stream",
     "text": [
      "The statistical analysis was conducted for 5 populations with 10 paired samples.\n",
      "The family-wise significance level of the tests is alpha=0.050.\n",
      "We failed to reject the null hypothesis that the population is normal for all populations (minimal observed p-value=0.234). Therefore, we assume that all populations are normal.\n",
      "We applied Bartlett's test for homogeneity and failed to reject the null hypothesis (p=0.499) that the data is homoscedastic. Thus, we assume that our data is homoscedastic.\n",
      "Because we have more than two populations and all populations are normal and homoscedastic, we use repeated measures ANOVA as omnibus test to determine if there are any significant differences between the mean values of the populations. If the results of the ANOVA test are significant, we use the post-hoc Tukey HSD test to infer which differences are significant. We report the mean value (M) and the standard deviation (SD) for each population. Populations are significantly different if their confidence intervals are not overlapping.\n",
      "We reject the null hypothesis (p=0.000) of the repeated measures ANOVA that there is a difference between the mean values of the populations zero-70 (M=0.490+-0.009, SD=0.014), knn-70 (M=0.566+-0.009, SD=0.017), isvd-70 (M=0.578+-0.009, SD=0.016), mean-70 (M=0.587+-0.009, SD=0.011), and median-70 (M=0.593+-0.009, SD=0.010). Therefore, we assume that there is a statistically significant difference between the mean values of the populations.\n",
      "Based post-hoc Tukey HSD test, we assume that there are no significant differences within the following groups: mean-70 and median-70. All other differences are significant.\n",
      "\n"
     ]
    }
   ],
   "source": [
    "create_report(result)"
   ]
  },
  {
   "cell_type": "code",
   "execution_count": 7,
   "metadata": {},
   "outputs": [
    {
     "data": {
      "image/png": "[encoded data removed]",
      "text/plain": [
       "<Figure size 600x500 with 1 Axes>"
      ]
     },
     "metadata": {},
     "output_type": "display_data"
    }
   ],
   "source": [
    "plot_stats(result)\n",
    "plt.show()"
   ]
  },
  {
   "cell_type": "code",
   "execution_count": 8,
   "metadata": {},
   "outputs": [
    {
     "name": "stdout",
     "output_type": "stream",
     "text": [
      "\\begin{table}[h]\n",
      "\\centering\n",
      "\\begin{tabular}{lrrlll}\n",
      "\\toprule\n",
      "{} &     M &    SD &              CI &    \\$d\\$ &   Magnitude \\\\\n",
      "\\midrule\n",
      "zero-70   & 0.490 & 0.014 &  [0.482, 0.499] &  0.000 &  negligible \\\\\n",
      "knn-70    & 0.566 & 0.017 &  [0.557, 0.575] & -4.847 &       large \\\\\n",
      "isvd-70   & 0.578 & 0.016 &  [0.569, 0.586] & -5.873 &       large \\\\\n",
      "mean-70   & 0.587 & 0.011 &  [0.578, 0.596] & -7.684 &       large \\\\\n",
      "median-70 & 0.593 & 0.010 &  [0.584, 0.602] & -8.333 &       large \\\\\n",
      "\\bottomrule\n",
      "\\end{tabular}\n",
      "\\caption{Summary of populations}\n",
      "\\label{tbl:stat_results}\n",
      "\\end{table}\n"
     ]
    },
    {
     "name": "stderr",
     "output_type": "stream",
     "text": [
      "/home/victor/.local/lib/python3.9/site-packages/autorank/autorank.py:697: FutureWarning: In future versions `DataFrame.to_latex` is expected to utilise the base implementation of `Styler.to_latex` for formatting and rendering. The arguments signature may therefore change. It is recommended instead to use `DataFrame.style.to_latex` which also contains additional functionality.\n",
      "  table_string = table_df.to_latex(float_format=float_format, na_rep='-').strip()\n"
     ]
    }
   ],
   "source": [
    "latex_table(result)"
   ]
  },
  {
   "cell_type": "markdown",
   "metadata": {},
   "source": [
    "<h1>Metric: Pearson correlation, Percentage: 70</h1>"
   ]
  },
  {
   "cell_type": "code",
   "execution_count": 9,
   "metadata": {},
   "outputs": [
    {
     "data": {
      "text/html": [
       "<div>\n",
       "<style scoped>\n",
       "    .dataframe tbody tr th:only-of-type {\n",
       "        vertical-align: middle;\n",
       "    }\n",
       "\n",
       "    .dataframe tbody tr th {\n",
       "        vertical-align: top;\n",
       "    }\n",
       "\n",
       "    .dataframe thead th {\n",
       "        text-align: right;\n",
       "    }\n",
       "</style>\n",
       "<table border=\"1\" class=\"dataframe\">\n",
       "  <thead>\n",
       "    <tr style=\"text-align: right;\">\n",
       "      <th></th>\n",
       "      <th>isvd-70</th>\n",
       "      <th>knn-70</th>\n",
       "      <th>mean-70</th>\n",
       "      <th>median-70</th>\n",
       "      <th>zero-70</th>\n",
       "    </tr>\n",
       "  </thead>\n",
       "  <tbody>\n",
       "    <tr>\n",
       "      <th>0</th>\n",
       "      <td>0.760491</td>\n",
       "      <td>0.759392</td>\n",
       "      <td>0.758866</td>\n",
       "      <td>0.769940</td>\n",
       "      <td>0.515590</td>\n",
       "    </tr>\n",
       "    <tr>\n",
       "      <th>1</th>\n",
       "      <td>0.751088</td>\n",
       "      <td>0.696915</td>\n",
       "      <td>0.742830</td>\n",
       "      <td>0.749692</td>\n",
       "      <td>0.498234</td>\n",
       "    </tr>\n",
       "    <tr>\n",
       "      <th>2</th>\n",
       "      <td>0.751134</td>\n",
       "      <td>0.655569</td>\n",
       "      <td>0.750583</td>\n",
       "      <td>0.760303</td>\n",
       "      <td>0.506423</td>\n",
       "    </tr>\n",
       "    <tr>\n",
       "      <th>3</th>\n",
       "      <td>0.743090</td>\n",
       "      <td>0.724893</td>\n",
       "      <td>0.742981</td>\n",
       "      <td>0.750672</td>\n",
       "      <td>0.516418</td>\n",
       "    </tr>\n",
       "    <tr>\n",
       "      <th>4</th>\n",
       "      <td>0.760080</td>\n",
       "      <td>0.656840</td>\n",
       "      <td>0.754148</td>\n",
       "      <td>0.768225</td>\n",
       "      <td>0.514191</td>\n",
       "    </tr>\n",
       "    <tr>\n",
       "      <th>5</th>\n",
       "      <td>0.751557</td>\n",
       "      <td>0.730113</td>\n",
       "      <td>0.757399</td>\n",
       "      <td>0.775280</td>\n",
       "      <td>0.491586</td>\n",
       "    </tr>\n",
       "    <tr>\n",
       "      <th>6</th>\n",
       "      <td>0.768462</td>\n",
       "      <td>0.752668</td>\n",
       "      <td>0.775027</td>\n",
       "      <td>0.778498</td>\n",
       "      <td>0.517058</td>\n",
       "    </tr>\n",
       "    <tr>\n",
       "      <th>7</th>\n",
       "      <td>0.775541</td>\n",
       "      <td>0.750362</td>\n",
       "      <td>0.784215</td>\n",
       "      <td>0.793390</td>\n",
       "      <td>0.546550</td>\n",
       "    </tr>\n",
       "    <tr>\n",
       "      <th>8</th>\n",
       "      <td>0.779131</td>\n",
       "      <td>0.756510</td>\n",
       "      <td>0.778540</td>\n",
       "      <td>0.782968</td>\n",
       "      <td>0.541903</td>\n",
       "    </tr>\n",
       "    <tr>\n",
       "      <th>9</th>\n",
       "      <td>0.758966</td>\n",
       "      <td>0.732611</td>\n",
       "      <td>0.754383</td>\n",
       "      <td>0.765928</td>\n",
       "      <td>0.530739</td>\n",
       "    </tr>\n",
       "  </tbody>\n",
       "</table>\n",
       "</div>"
      ],
      "text/plain": [
       "    isvd-70    knn-70   mean-70  median-70   zero-70\n",
       "0  0.760491  0.759392  0.758866   0.769940  0.515590\n",
       "1  0.751088  0.696915  0.742830   0.749692  0.498234\n",
       "2  0.751134  0.655569  0.750583   0.760303  0.506423\n",
       "3  0.743090  0.724893  0.742981   0.750672  0.516418\n",
       "4  0.760080  0.656840  0.754148   0.768225  0.514191\n",
       "5  0.751557  0.730113  0.757399   0.775280  0.491586\n",
       "6  0.768462  0.752668  0.775027   0.778498  0.517058\n",
       "7  0.775541  0.750362  0.784215   0.793390  0.546550\n",
       "8  0.779131  0.756510  0.778540   0.782968  0.541903\n",
       "9  0.758966  0.732611  0.754383   0.765928  0.530739"
      ]
     },
     "execution_count": 9,
     "metadata": {},
     "output_type": "execute_result"
    }
   ],
   "source": [
    "data = get_dataframe('Pearson_correlation', '70')\n",
    "data"
   ]
  },
  {
   "cell_type": "code",
   "execution_count": 10,
   "metadata": {},
   "outputs": [
    {
     "name": "stdout",
     "output_type": "stream",
     "text": [
      "RankResult(rankdf=\n",
      "           meanrank      mean       std  ci_lower  ci_upper effect_size  \\\n",
      "zero-70         5.0  0.517869  0.017622   0.49976  0.535979         0.0   \n",
      "knn-70          3.9  0.721587  0.039168  0.681335   0.76184   -6.707881   \n",
      "mean-70         2.8  0.759897  0.014540  0.744954   0.77484  -14.981948   \n",
      "isvd-70         2.2  0.759954  0.011526  0.748109  0.771799  -16.259069   \n",
      "median-70       1.1  0.769490  0.013794  0.755313  0.783666  -15.901011   \n",
      "\n",
      "            magnitude  \n",
      "zero-70    negligible  \n",
      "knn-70          large  \n",
      "mean-70         large  \n",
      "isvd-70         large  \n",
      "median-70       large  \n",
      "pvalue=2.394096534864183e-07\n",
      "cd=1.9288111473713958\n",
      "omnibus=friedman\n",
      "posthoc=nemenyi\n",
      "all_normal=True\n",
      "pvals_shapiro=[0.9139222502708435, 0.0411330871284008, 0.21868513524532318, 0.6556521654129028, 0.5860980153083801]\n",
      "homoscedastic=False\n",
      "pval_homogeneity=0.0006342933226122224\n",
      "homogeneity_test=bartlett\n",
      "alpha=0.05\n",
      "alpha_normality=0.01\n",
      "num_samples=10\n",
      "posterior_matrix=\n",
      "None\n",
      "decision_matrix=\n",
      "None\n",
      "rope=None\n",
      "rope_mode=None\n",
      "effect_size=cohen_d)\n"
     ]
    }
   ],
   "source": [
    "result = autorank(data, alpha=0.05, verbose=False)\n",
    "print(result)"
   ]
  },
  {
   "cell_type": "code",
   "execution_count": 11,
   "metadata": {},
   "outputs": [
    {
     "name": "stdout",
     "output_type": "stream",
     "text": [
      "The statistical analysis was conducted for 5 populations with 10 paired samples.\n",
      "The family-wise significance level of the tests is alpha=0.050.\n",
      "We failed to reject the null hypothesis that the population is normal for all populations (minimal observed p-value=0.041). Therefore, we assume that all populations are normal.\n",
      "We applied Bartlett's test for homogeneity and reject the null hypothesis (p=0.001) that thedata is homoscedastic. Thus, we assume that our data is heteroscedastic.\n",
      "Because we have more than two populations and the populations are normal but heteroscedastic, we use the non-parametric Friedman test as omnibus test to determine if there are any significant differences between the mean values of the populations. We use the post-hoc Nemenyi test to infer which differences are significant. We report the mean value (M), the standard deviation (SD) and the mean rank (MR) among all populations over the samples. Differences between populations are significant, if the difference of the mean rank is greater than the critical distance CD=1.929 of the Nemenyi test.\n",
      "We reject the null hypothesis (p=0.000) of the Friedman test that there is no difference in the central tendency of the populations zero-70 (M=0.518+-0.018, SD=0.018, MR=5.000), knn-70 (M=0.722+-0.040, SD=0.039, MR=3.900), mean-70 (M=0.760+-0.015, SD=0.015, MR=2.800), isvd-70 (M=0.760+-0.012, SD=0.012, MR=2.200), and median-70 (M=0.769+-0.014, SD=0.014, MR=1.100). Therefore, we assume that there is a statistically significant difference between the median values of the populations.\n",
      "Based on the post-hoc Nemenyi test, we assume that there are no significant differences within the following groups: zero-70 and knn-70; knn-70, mean-70, and isvd-70; mean-70, isvd-70, and median-70. All other differences are significant.\n"
     ]
    }
   ],
   "source": [
    "create_report(result)"
   ]
  },
  {
   "cell_type": "code",
   "execution_count": 12,
   "metadata": {},
   "outputs": [
    {
     "data": {
      "image/png": "[encoded data removed]",
      "text/plain": [
       "<Figure size 600x185 with 1 Axes>"
      ]
     },
     "metadata": {},
     "output_type": "display_data"
    }
   ],
   "source": [
    "plot_stats(result)\n",
    "plt.show()"
   ]
  },
  {
   "cell_type": "code",
   "execution_count": 13,
   "metadata": {},
   "outputs": [
    {
     "name": "stdout",
     "output_type": "stream",
     "text": [
      "\\begin{table}[h]\n",
      "\\centering\n",
      "\\begin{tabular}{lrrrlll}\n",
      "\\toprule\n",
      "{} &    MR &     M &    SD &              CI &     \\$d\\$ &   Magnitude \\\\\n",
      "\\midrule\n",
      "zero-70   & 5.000 & 0.518 & 0.018 &  [0.500, 0.536] &   0.000 &  negligible \\\\\n",
      "knn-70    & 3.900 & 0.722 & 0.039 &  [0.681, 0.762] &  -6.708 &       large \\\\\n",
      "mean-70   & 2.800 & 0.760 & 0.015 &  [0.745, 0.775] & -14.982 &       large \\\\\n",
      "isvd-70   & 2.200 & 0.760 & 0.012 &  [0.748, 0.772] & -16.259 &       large \\\\\n",
      "median-70 & 1.100 & 0.769 & 0.014 &  [0.755, 0.784] & -15.901 &       large \\\\\n",
      "\\bottomrule\n",
      "\\end{tabular}\n",
      "\\caption{Summary of populations}\n",
      "\\label{tbl:stat_results}\n",
      "\\end{table}\n"
     ]
    },
    {
     "name": "stderr",
     "output_type": "stream",
     "text": [
      "/home/victor/.local/lib/python3.9/site-packages/autorank/autorank.py:697: FutureWarning: In future versions `DataFrame.to_latex` is expected to utilise the base implementation of `Styler.to_latex` for formatting and rendering. The arguments signature may therefore change. It is recommended instead to use `DataFrame.style.to_latex` which also contains additional functionality.\n",
      "  table_string = table_df.to_latex(float_format=float_format, na_rep='-').strip()\n"
     ]
    }
   ],
   "source": [
    "latex_table(result)"
   ]
  },
  {
   "cell_type": "markdown",
   "metadata": {},
   "source": [
    "<h1>Metric: RMSE, Percentage: 70</h1>"
   ]
  },
  {
   "cell_type": "code",
   "execution_count": 14,
   "metadata": {},
   "outputs": [
    {
     "data": {
      "text/html": [
       "<div>\n",
       "<style scoped>\n",
       "    .dataframe tbody tr th:only-of-type {\n",
       "        vertical-align: middle;\n",
       "    }\n",
       "\n",
       "    .dataframe tbody tr th {\n",
       "        vertical-align: top;\n",
       "    }\n",
       "\n",
       "    .dataframe thead th {\n",
       "        text-align: right;\n",
       "    }\n",
       "</style>\n",
       "<table border=\"1\" class=\"dataframe\">\n",
       "  <thead>\n",
       "    <tr style=\"text-align: right;\">\n",
       "      <th></th>\n",
       "      <th>isvd-70</th>\n",
       "      <th>knn-70</th>\n",
       "      <th>mean-70</th>\n",
       "      <th>median-70</th>\n",
       "      <th>zero-70</th>\n",
       "    </tr>\n",
       "  </thead>\n",
       "  <tbody>\n",
       "    <tr>\n",
       "      <th>0</th>\n",
       "      <td>2.262491</td>\n",
       "      <td>2.294633</td>\n",
       "      <td>2.295617</td>\n",
       "      <td>2.228375</td>\n",
       "      <td>4.093462</td>\n",
       "    </tr>\n",
       "    <tr>\n",
       "      <th>1</th>\n",
       "      <td>2.264935</td>\n",
       "      <td>2.647849</td>\n",
       "      <td>2.304176</td>\n",
       "      <td>2.270892</td>\n",
       "      <td>4.158296</td>\n",
       "    </tr>\n",
       "    <tr>\n",
       "      <th>2</th>\n",
       "      <td>2.257949</td>\n",
       "      <td>2.859701</td>\n",
       "      <td>2.240476</td>\n",
       "      <td>2.191128</td>\n",
       "      <td>4.059159</td>\n",
       "    </tr>\n",
       "    <tr>\n",
       "      <th>3</th>\n",
       "      <td>2.253826</td>\n",
       "      <td>2.406342</td>\n",
       "      <td>2.254122</td>\n",
       "      <td>2.206550</td>\n",
       "      <td>4.042336</td>\n",
       "    </tr>\n",
       "    <tr>\n",
       "      <th>4</th>\n",
       "      <td>2.206250</td>\n",
       "      <td>2.852822</td>\n",
       "      <td>2.263614</td>\n",
       "      <td>2.178202</td>\n",
       "      <td>4.080591</td>\n",
       "    </tr>\n",
       "    <tr>\n",
       "      <th>5</th>\n",
       "      <td>2.252552</td>\n",
       "      <td>2.354150</td>\n",
       "      <td>2.216594</td>\n",
       "      <td>2.124661</td>\n",
       "      <td>4.196991</td>\n",
       "    </tr>\n",
       "    <tr>\n",
       "      <th>6</th>\n",
       "      <td>2.237740</td>\n",
       "      <td>2.282412</td>\n",
       "      <td>2.236460</td>\n",
       "      <td>2.200182</td>\n",
       "      <td>4.116578</td>\n",
       "    </tr>\n",
       "    <tr>\n",
       "      <th>7</th>\n",
       "      <td>2.258939</td>\n",
       "      <td>2.406788</td>\n",
       "      <td>2.190750</td>\n",
       "      <td>2.143489</td>\n",
       "      <td>4.054636</td>\n",
       "    </tr>\n",
       "    <tr>\n",
       "      <th>8</th>\n",
       "      <td>2.184426</td>\n",
       "      <td>2.319331</td>\n",
       "      <td>2.211642</td>\n",
       "      <td>2.177600</td>\n",
       "      <td>3.978533</td>\n",
       "    </tr>\n",
       "    <tr>\n",
       "      <th>9</th>\n",
       "      <td>2.259245</td>\n",
       "      <td>2.355575</td>\n",
       "      <td>2.300757</td>\n",
       "      <td>2.240696</td>\n",
       "      <td>4.072563</td>\n",
       "    </tr>\n",
       "  </tbody>\n",
       "</table>\n",
       "</div>"
      ],
      "text/plain": [
       "    isvd-70    knn-70   mean-70  median-70   zero-70\n",
       "0  2.262491  2.294633  2.295617   2.228375  4.093462\n",
       "1  2.264935  2.647849  2.304176   2.270892  4.158296\n",
       "2  2.257949  2.859701  2.240476   2.191128  4.059159\n",
       "3  2.253826  2.406342  2.254122   2.206550  4.042336\n",
       "4  2.206250  2.852822  2.263614   2.178202  4.080591\n",
       "5  2.252552  2.354150  2.216594   2.124661  4.196991\n",
       "6  2.237740  2.282412  2.236460   2.200182  4.116578\n",
       "7  2.258939  2.406788  2.190750   2.143489  4.054636\n",
       "8  2.184426  2.319331  2.211642   2.177600  3.978533\n",
       "9  2.259245  2.355575  2.300757   2.240696  4.072563"
      ]
     },
     "execution_count": 14,
     "metadata": {},
     "output_type": "execute_result"
    }
   ],
   "source": [
    "data = get_dataframe('RMSE', '70')\n",
    "data"
   ]
  },
  {
   "cell_type": "code",
   "execution_count": 15,
   "metadata": {},
   "outputs": [
    {
     "name": "stdout",
     "output_type": "stream",
     "text": [
      "RankResult(rankdf=\n",
      "           meanrank    median       mad  ci_lower  ci_upper effect_size  \\\n",
      "median-70       4.9  2.195655  0.025387  2.124661  2.270892         0.0   \n",
      "isvd-70         3.7  2.255888   0.00498  2.184426  2.264935   -2.220779   \n",
      "mean-70         3.3  2.247299  0.033181   2.19075  2.304176   -1.179105   \n",
      "knn-70          2.1  2.380958  0.073977  2.282412  2.859701   -2.259975   \n",
      "zero-70         1.0  4.076577  0.028091  3.978533  4.196991  -47.385342   \n",
      "\n",
      "            magnitude  \n",
      "median-70  negligible  \n",
      "isvd-70         large  \n",
      "mean-70         large  \n",
      "knn-70          large  \n",
      "zero-70         large  \n",
      "pvalue=2.893696151495398e-07\n",
      "cd=1.9288111473713958\n",
      "omnibus=friedman\n",
      "posthoc=nemenyi\n",
      "all_normal=False\n",
      "pvals_shapiro=[0.008018619380891323, 0.9875406622886658, 0.534204363822937, 0.0032131164334714413, 0.8859145045280457]\n",
      "homoscedastic=False\n",
      "pval_homogeneity=0.004494917270205033\n",
      "homogeneity_test=levene\n",
      "alpha=0.05\n",
      "alpha_normality=0.01\n",
      "num_samples=10\n",
      "posterior_matrix=\n",
      "None\n",
      "decision_matrix=\n",
      "None\n",
      "rope=None\n",
      "rope_mode=None\n",
      "effect_size=akinshin_gamma)\n"
     ]
    }
   ],
   "source": [
    "result = autorank(data, alpha=0.05, verbose=False)\n",
    "print(result)"
   ]
  },
  {
   "cell_type": "code",
   "execution_count": 16,
   "metadata": {},
   "outputs": [
    {
     "name": "stdout",
     "output_type": "stream",
     "text": [
      "The statistical analysis was conducted for 5 populations with 10 paired samples.\n",
      "The family-wise significance level of the tests is alpha=0.050.\n",
      "We rejected the null hypothesis that the population is normal for the populations median-70 (p=0.008) and knn-70 (p=0.003). Therefore, we assume that not all populations are normal.\n",
      "Because we have more than two populations and the populations and some of them are not normal, we use the non-parametric Friedman test as omnibus test to determine if there are any significant differences between the median values of the populations. We use the post-hoc Nemenyi test to infer which differences are significant. We report the median (MD), the median absolute deviation (MAD) and the mean rank (MR) among all populations over the samples. Differences between populations are significant, if the difference of the mean rank is greater than the critical distance CD=1.929 of the Nemenyi test.\n",
      "We reject the null hypothesis (p=0.000) of the Friedman test that there is no difference in the central tendency of the populations median-70 (MD=2.196+-0.073, MAD=0.025, MR=4.900), isvd-70 (MD=2.256+-0.040, MAD=0.005, MR=3.700), mean-70 (MD=2.247+-0.057, MAD=0.033, MR=3.300), knn-70 (MD=2.381+-0.289, MAD=0.074, MR=2.100), and zero-70 (MD=4.077+-0.109, MAD=0.028, MR=1.000). Therefore, we assume that there is a statistically significant difference between the median values of the populations.\n",
      "Based on the post-hoc Nemenyi test, we assume that there are no significant differences within the following groups: median-70, isvd-70, and mean-70; isvd-70, mean-70, and knn-70; knn-70 and zero-70. All other differences are significant.\n"
     ]
    }
   ],
   "source": [
    "create_report(result)"
   ]
  },
  {
   "cell_type": "code",
   "execution_count": 17,
   "metadata": {},
   "outputs": [
    {
     "data": {
      "image/png": "[encoded data removed]",
      "text/plain": [
       "<Figure size 600x185 with 1 Axes>"
      ]
     },
     "metadata": {},
     "output_type": "display_data"
    }
   ],
   "source": [
    "plot_stats(result)\n",
    "plt.show()"
   ]
  },
  {
   "cell_type": "code",
   "execution_count": 18,
   "metadata": {},
   "outputs": [
    {
     "name": "stdout",
     "output_type": "stream",
     "text": [
      "\\begin{table}[h]\n",
      "\\centering\n",
      "\\begin{tabular}{lrrllll}\n",
      "\\toprule\n",
      "{} &    MR &   MED &   MAD &              CI & $\\gamma$ &   Magnitude \\\\\n",
      "\\midrule\n",
      "median-70 & 4.900 & 2.196 & 0.025 &  [2.125, 2.271] &     0.000 &  negligible \\\\\n",
      "isvd-70   & 3.700 & 2.256 & 0.005 &  [2.184, 2.265] &    -2.221 &       large \\\\\n",
      "mean-70   & 3.300 & 2.247 & 0.033 &  [2.191, 2.304] &    -1.179 &       large \\\\\n",
      "knn-70    & 2.100 & 2.381 & 0.074 &  [2.282, 2.860] &    -2.260 &       large \\\\\n",
      "zero-70   & 1.000 & 4.077 & 0.028 &  [3.979, 4.197] &   -47.385 &       large \\\\\n",
      "\\bottomrule\n",
      "\\end{tabular}\n",
      "\\caption{Summary of populations}\n",
      "\\label{tbl:stat_results}\n",
      "\\end{table}\n"
     ]
    },
    {
     "name": "stderr",
     "output_type": "stream",
     "text": [
      "/home/victor/.local/lib/python3.9/site-packages/autorank/autorank.py:697: FutureWarning: In future versions `DataFrame.to_latex` is expected to utilise the base implementation of `Styler.to_latex` for formatting and rendering. The arguments signature may therefore change. It is recommended instead to use `DataFrame.style.to_latex` which also contains additional functionality.\n",
      "  table_string = table_df.to_latex(float_format=float_format, na_rep='-').strip()\n"
     ]
    }
   ],
   "source": [
    "latex_table(result)"
   ]
  }
 ],
 "metadata": {
  "kernelspec": {
   "display_name": "Python 3.9.9 64-bit",
   "language": "python",
   "name": "python3"
  },
  "language_info": {
   "codemirror_mode": {
    "name": "ipython",
    "version": 3
   },
   "file_extension": ".py",
   "mimetype": "text/x-python",
   "name": "python",
   "nbconvert_exporter": "python",
   "pygments_lexer": "ipython3",
   "version": "3.9.9"
  },
  "orig_nbformat": 4,
  "vscode": {
   "interpreter": {
    "hash": "31f2aee4e71d21fbe5cf8b01ff0e069b9275f58929596ceb00d14d90e3e16cd6"
   }
  }
 },
 "nbformat": 4,
 "nbformat_minor": 2
}
